{
  "nbformat": 4,
  "nbformat_minor": 0,
  "metadata": {
    "kernelspec": {
      "display_name": "Python 3",
      "language": "python",
      "name": "python3"
    },
    "language_info": {
      "codemirror_mode": {
        "name": "ipython",
        "version": 3
      },
      "file_extension": ".py",
      "mimetype": "text/x-python",
      "name": "python",
      "nbconvert_exporter": "python",
      "pygments_lexer": "ipython3",
      "version": "3.7.3"
    },
    "colab": {
      "name": "cd_podstaw_pythona.ipynb",
      "provenance": []
    }
  },
  "cells": [
    {
      "cell_type": "code",
      "metadata": {
        "id": "wPqRwXZ61TuT"
      },
      "source": [
        "import numpy as np"
      ],
      "execution_count": 1,
      "outputs": []
    },
    {
      "cell_type": "code",
      "metadata": {
        "id": "xUN7A8bM1Tux"
      },
      "source": [
        "a_list= [1,2,3,4,5, [1,2,3], \"temat\"] # nie idealna lista\n",
        "k_krotka = (1,2,3,4,5, [1,2,3], \"temat\")\n",
        "b_list = [1,2,3,4,5]\n",
        "n_array = np.array(b_list) # wektor numpy\n"
      ],
      "execution_count": null,
      "outputs": []
    },
    {
      "cell_type": "code",
      "metadata": {
        "id": "Wyp56w7n1Tu7",
        "outputId": "a5af593e-44bd-4188-c6e2-f7c8ccc86b54"
      },
      "source": [
        "a_list+b_list\n",
        "n_array+n_array"
      ],
      "execution_count": null,
      "outputs": [
        {
          "output_type": "execute_result",
          "data": {
            "text/plain": [
              "array([ 2,  4,  6,  8, 10])"
            ]
          },
          "metadata": {
            "tags": []
          },
          "execution_count": 13
        }
      ]
    },
    {
      "cell_type": "code",
      "metadata": {
        "id": "16evwf3x1TvF",
        "outputId": "d3613c28-9059-4ac7-ab80-57a7d9cb48da"
      },
      "source": [
        "a_list[3]"
      ],
      "execution_count": null,
      "outputs": [
        {
          "output_type": "error",
          "ename": "NameError",
          "evalue": "name 'k_list' is not defined",
          "traceback": [
            "\u001b[0;31m---------------------------------------------------------------------------\u001b[0m",
            "\u001b[0;31mNameError\u001b[0m                                 Traceback (most recent call last)",
            "\u001b[0;32m<ipython-input-12-a1492b151a5c>\u001b[0m in \u001b[0;36m<module>\u001b[0;34m\u001b[0m\n\u001b[0;32m----> 1\u001b[0;31m \u001b[0mk_list\u001b[0m\u001b[0;34m[\u001b[0m\u001b[0;36m3\u001b[0m\u001b[0;34m]\u001b[0m\u001b[0;34m\u001b[0m\u001b[0;34m\u001b[0m\u001b[0m\n\u001b[0m",
            "\u001b[0;31mNameError\u001b[0m: name 'k_list' is not defined"
          ]
        }
      ]
    },
    {
      "cell_type": "code",
      "metadata": {
        "id": "3J10PILG1TvN",
        "outputId": "6f2ba6b2-9c44-49de-fb42-61161f11152c"
      },
      "source": [
        "a_list.append(100)\n",
        "print(a_list)"
      ],
      "execution_count": null,
      "outputs": [
        {
          "output_type": "stream",
          "text": [
            "[1, 2, 3, 4, 5, [1, 2, 3], 'temat', 100, 100]\n"
          ],
          "name": "stdout"
        }
      ]
    },
    {
      "cell_type": "code",
      "metadata": {
        "id": "JYzTPL7A1TvY",
        "outputId": "e89740fc-f21a-4c15-80d8-ef37e55c071a"
      },
      "source": [
        "k_krotka[4]"
      ],
      "execution_count": null,
      "outputs": [
        {
          "output_type": "execute_result",
          "data": {
            "text/plain": [
              "5"
            ]
          },
          "metadata": {
            "tags": []
          },
          "execution_count": 13
        }
      ]
    },
    {
      "cell_type": "code",
      "metadata": {
        "id": "5aq-fXLo1Tvj",
        "outputId": "ca4ef8c9-e0e7-4749-bc46-f2e7ca43c983"
      },
      "source": [
        "k_krotka.append(100)"
      ],
      "execution_count": null,
      "outputs": [
        {
          "output_type": "error",
          "ename": "AttributeError",
          "evalue": "'tuple' object has no attribute 'append'",
          "traceback": [
            "\u001b[0;31m---------------------------------------------------------------------------\u001b[0m",
            "\u001b[0;31mAttributeError\u001b[0m                            Traceback (most recent call last)",
            "\u001b[0;32m<ipython-input-14-4da2f0146474>\u001b[0m in \u001b[0;36m<module>\u001b[0;34m\u001b[0m\n\u001b[0;32m----> 1\u001b[0;31m \u001b[0mk_krotka\u001b[0m\u001b[0;34m.\u001b[0m\u001b[0mappend\u001b[0m\u001b[0;34m(\u001b[0m\u001b[0;36m100\u001b[0m\u001b[0;34m)\u001b[0m\u001b[0;34m\u001b[0m\u001b[0;34m\u001b[0m\u001b[0m\n\u001b[0m",
            "\u001b[0;31mAttributeError\u001b[0m: 'tuple' object has no attribute 'append'"
          ]
        }
      ]
    },
    {
      "cell_type": "code",
      "metadata": {
        "id": "cZVlUMB81Tvs",
        "outputId": "52066e15-1be4-4086-cee1-bcebf2219271"
      },
      "source": [
        "np.array(b_list)+np.array(b_list)"
      ],
      "execution_count": null,
      "outputs": [
        {
          "output_type": "execute_result",
          "data": {
            "text/plain": [
              "array([ 2,  4,  6,  8, 10])"
            ]
          },
          "metadata": {
            "tags": []
          },
          "execution_count": 8
        }
      ]
    },
    {
      "cell_type": "code",
      "metadata": {
        "id": "Pk_0ZPrh1Tvy"
      },
      "source": [
        "n_array = np.array(a_list) # wektor numpy"
      ],
      "execution_count": null,
      "outputs": []
    },
    {
      "cell_type": "code",
      "metadata": {
        "id": "lex_SnMI1Tv3",
        "outputId": "3935290b-5acf-4290-b27c-8a646a36925a"
      },
      "source": [
        "n_array"
      ],
      "execution_count": null,
      "outputs": [
        {
          "output_type": "execute_result",
          "data": {
            "text/plain": [
              "array([1, 2, 3, 4, 5, list([1, 2, 3]), 'temat'], dtype=object)"
            ]
          },
          "metadata": {
            "tags": []
          },
          "execution_count": 10
        }
      ]
    },
    {
      "cell_type": "code",
      "metadata": {
        "id": "VKz76rpH1Tv_"
      },
      "source": [
        "#### Nowosci\n",
        "\n",
        "studenci_slownik = {123: 123,\"Igor\":3, \"Frankek\":5, \"Zosia\":22,\"Julia\":[2,21], (1,2):\"Krotka\"}"
      ],
      "execution_count": null,
      "outputs": []
    },
    {
      "cell_type": "code",
      "metadata": {
        "id": "TTapGmHs1TwG",
        "outputId": "0fc1c386-910f-4938-b46d-5b3103a61a4a"
      },
      "source": [
        "print(studenci_slownik)"
      ],
      "execution_count": null,
      "outputs": [
        {
          "output_type": "stream",
          "text": [
            "{123: 123, 'Igor': 3, 'Frankek': 5, 'Zosia': 22, 'Julia': [2, 21], (1, 2): 'Krotka'}\n"
          ],
          "name": "stdout"
        }
      ]
    },
    {
      "cell_type": "code",
      "metadata": {
        "id": "B1oRav1n1Twa",
        "outputId": "ceb880e8-a54a-4325-b942-a30c406413a3"
      },
      "source": [
        "studenci_slownik[\"Zosia\"]"
      ],
      "execution_count": null,
      "outputs": [
        {
          "output_type": "execute_result",
          "data": {
            "text/plain": [
              "22"
            ]
          },
          "metadata": {
            "tags": []
          },
          "execution_count": 21
        }
      ]
    },
    {
      "cell_type": "code",
      "metadata": {
        "id": "2l1Z7DaQ1Twj",
        "outputId": "ebc0ff16-6ddc-4420-c7f8-a1f7f17574bd"
      },
      "source": [
        "for elementy in studenci_slownik:\n",
        "    print(elementy)\n",
        "\n",
        "print(\"*\"*20)\n",
        "for elementy in studenci_slownik.keys():\n",
        "    print(elementy)"
      ],
      "execution_count": null,
      "outputs": [
        {
          "output_type": "stream",
          "text": [
            "123\n",
            "Igor\n",
            "Frankek\n",
            "Zosia\n",
            "Julia\n",
            "(1, 2)\n",
            "********************\n",
            "123\n",
            "Igor\n",
            "Frankek\n",
            "Zosia\n",
            "Julia\n",
            "(1, 2)\n"
          ],
          "name": "stdout"
        }
      ]
    },
    {
      "cell_type": "code",
      "metadata": {
        "id": "6N3p-fW51Twp",
        "outputId": "01f09635-2ac1-4b7b-a4db-d4e1cc3e4fd2"
      },
      "source": [
        "for elementy in studenci_slownik.items():\n",
        "    print(elementy)"
      ],
      "execution_count": null,
      "outputs": [
        {
          "output_type": "stream",
          "text": [
            "('Igor', 3)\n",
            "('Frankek', 5)\n",
            "('Zosia', 22)\n",
            "('Julia', [2, 21])\n"
          ],
          "name": "stdout"
        }
      ]
    },
    {
      "cell_type": "code",
      "metadata": {
        "id": "SMF-ivsF1Twx",
        "outputId": "03e7c9ff-d408-4266-e6ad-aab9cf68cb9b"
      },
      "source": [
        "for elementy in studenci_slownik.values():\n",
        "    print(elementy)"
      ],
      "execution_count": null,
      "outputs": [
        {
          "output_type": "stream",
          "text": [
            "3\n",
            "5\n",
            "22\n",
            "[2, 21]\n"
          ],
          "name": "stdout"
        }
      ]
    },
    {
      "cell_type": "code",
      "metadata": {
        "id": "zY6Fh99A1Tw2"
      },
      "source": [
        "studenci_slownik[\"Cuthulu\"]= -1000000"
      ],
      "execution_count": null,
      "outputs": []
    },
    {
      "cell_type": "code",
      "metadata": {
        "id": "WcW5oWEo1Tw6",
        "outputId": "af19fa55-3405-46de-ef4e-40a92d7b226a"
      },
      "source": [
        "studenci_slownik"
      ],
      "execution_count": null,
      "outputs": [
        {
          "output_type": "execute_result",
          "data": {
            "text/plain": [
              "{'Igor': 3, 'Frankek': 5, 'Zosia': 22, 'Julia': [2, 21], 'Cuthulu': -1000000}"
            ]
          },
          "metadata": {
            "tags": []
          },
          "execution_count": 31
        }
      ]
    },
    {
      "cell_type": "code",
      "metadata": {
        "id": "9muvzU5A1TxA",
        "outputId": "e084a004-4fb9-4818-a19b-9ca6baf0f912"
      },
      "source": [
        "automatyczna_lista=[liczba**2 for liczba in range(100) if liczba%4==0]\n",
        "print(automatyczna_lista)"
      ],
      "execution_count": null,
      "outputs": [
        {
          "output_type": "stream",
          "text": [
            "[0, 16, 64, 144, 256, 400, 576, 784, 1024, 1296, 1600, 1936, 2304, 2704, 3136, 3600, 4096, 4624, 5184, 5776, 6400, 7056, 7744, 8464, 9216]\n"
          ],
          "name": "stdout"
        }
      ]
    },
    {
      "cell_type": "code",
      "metadata": {
        "id": "yhY9uYO91TxG",
        "outputId": "5390ea21-bce5-4c73-eebb-f8b27bd1688a"
      },
      "source": [
        "studenci = studenci_slownik.keys()\n",
        "automatyczny_slownik=dict(para for para in enumerate(studenci))\n",
        "print(automatyczny_slownik)"
      ],
      "execution_count": null,
      "outputs": [
        {
          "output_type": "stream",
          "text": [
            "{0: 'Igor', 1: 'Frankek', 2: 'Zosia', 3: 'Julia', 4: 'Cuthulu'}\n"
          ],
          "name": "stdout"
        }
      ]
    },
    {
      "cell_type": "code",
      "metadata": {
        "id": "8OvL6BZz1TxL"
      },
      "source": [
        "##### zbiory\n",
        "\n",
        "a={1,2,3,\"Franek\"}\n",
        "b={2,3,4,\"Franek\"}\n"
      ],
      "execution_count": null,
      "outputs": []
    },
    {
      "cell_type": "code",
      "metadata": {
        "id": "1H4fRuv31TxU",
        "outputId": "cda6904d-6a44-4a0b-f8ea-fe92d8fbcb91"
      },
      "source": [
        "a|b #suma zbiorów, sum of sets"
      ],
      "execution_count": null,
      "outputs": [
        {
          "output_type": "execute_result",
          "data": {
            "text/plain": [
              "{1, 2, 3, 4, 'Franek'}"
            ]
          },
          "metadata": {
            "tags": []
          },
          "execution_count": 23
        }
      ]
    },
    {
      "cell_type": "code",
      "metadata": {
        "id": "Co9ACZf01Txb",
        "outputId": "fcdca317-b439-4e79-d514-a2a2a78434a5"
      },
      "source": [
        "a.add(\"Franek\")\n",
        "print(a)"
      ],
      "execution_count": null,
      "outputs": [
        {
          "output_type": "stream",
          "text": [
            "{1, 2, 3, 'Franek'}\n"
          ],
          "name": "stdout"
        }
      ]
    },
    {
      "cell_type": "code",
      "metadata": {
        "id": "FRsJeOlT1Txg",
        "outputId": "d6a367c4-5d53-40fc-e961-0ead6d668b00"
      },
      "source": [
        "1 in a\n",
        "\"Igor\" in studenci_slownik"
      ],
      "execution_count": null,
      "outputs": [
        {
          "output_type": "execute_result",
          "data": {
            "text/plain": [
              "True"
            ]
          },
          "metadata": {
            "tags": []
          },
          "execution_count": 25
        }
      ]
    },
    {
      "cell_type": "markdown",
      "metadata": {
        "id": "HkzXcclk1Txk"
      },
      "source": [
        "### Własne typy"
      ]
    },
    {
      "cell_type": "code",
      "metadata": {
        "id": "Od4SqVxm1Txl"
      },
      "source": [
        "zajecia = [[\"wf\"],\n",
        "           [\"informatyka\", \"nauka czytania\"],\n",
        "           [\"relax\", \"jedzenie\"],\n",
        "           [\"mispy\",\"mispy w domu\"],\n",
        "           [\"piateczek\", \"praca domowa z mispow\", \"Ilovemispy\", \"mispy w czasie snu\"]\n",
        "          ]\n",
        "\n",
        "dnityg= [\"Pon\",\"Wto\",\"Sro\",\"Czwar\",\"Pio\"]\n",
        "\n",
        "def dodaj_dwie_liczby(liczba1,liczba2):\n",
        "    return liczba1+liczba2"
      ],
      "execution_count": 2,
      "outputs": []
    },
    {
      "cell_type": "code",
      "metadata": {
        "id": "PI7AIOWB1Txq"
      },
      "source": [
        "class DzienZajec():\n",
        "    \"\"\"obiekt trzymający dany dzień zajęć i przypisane mu metody\"\"\"\n",
        "    \n",
        "    \n",
        "    def __init__(self, lista_na_dany_dzien, nazwa_dnia): #definicja\n",
        "        self.lista_zajec= lista_na_dany_dzien\n",
        "        self.dzien = nazwa_dnia\n",
        "        \n",
        "\n",
        "    \n",
        "    def ile_mispow(self):\n",
        "        ile_m = sum([1 for zajecie in self.lista_zajec if \"misp\" in zajecie.lower()])\n",
        "        return ile_m\n",
        "\n",
        "    @property #zamienia na wlasciwosc   \n",
        "    def ile_zajec(self):\n",
        "        return len(self.lista_zajec)\n",
        "    \n",
        "    def __repr__(self):\n",
        "        zajecia_do_stringa = \", \".join(self.lista_zajec)\n",
        "        return \"W dzien {} mam zajecia: {}\".format(self.dzien, zajecia_do_stringa)\n",
        "    "
      ],
      "execution_count": 4,
      "outputs": []
    },
    {
      "cell_type": "code",
      "metadata": {
        "id": "A0HYNIIX1Txx"
      },
      "source": [
        "pio_zajecia = DzienZajec([\"piateczek\", \"praca domowa z mispow\", \"Ilovemispy\", \"mispy w czasie snu\"],\n",
        "                        \"piatek\")"
      ],
      "execution_count": 5,
      "outputs": []
    },
    {
      "cell_type": "code",
      "metadata": {
        "id": "by4owm0F1Tx1",
        "outputId": "d552cc6c-3a1f-42fa-9aeb-167a3e51daa8"
      },
      "source": [
        "pio_zajecia.ile_zajec"
      ],
      "execution_count": null,
      "outputs": [
        {
          "output_type": "execute_result",
          "data": {
            "text/plain": [
              "4"
            ]
          },
          "metadata": {
            "tags": []
          },
          "execution_count": 32
        }
      ]
    },
    {
      "cell_type": "code",
      "metadata": {
        "id": "5fQLRyXP1Tx4",
        "outputId": "a5c3e5f6-e287-4d89-f5c2-c4e4a1eebb74"
      },
      "source": [
        "print(pio_zajecia)"
      ],
      "execution_count": null,
      "outputs": [
        {
          "output_type": "stream",
          "text": [
            "W dzien piatek mam zajecia: piateczek, praca domowa z mispow, Ilovemispy, mispy w czasie snu\n"
          ],
          "name": "stdout"
        }
      ]
    },
    {
      "cell_type": "code",
      "metadata": {
        "id": "XmVjdtOj1Tx7",
        "outputId": "93cb2b5c-2eb9-4cd5-8408-854cf4282cd7"
      },
      "source": [
        "pio_zajecia.lista_zajec"
      ],
      "execution_count": null,
      "outputs": [
        {
          "output_type": "execute_result",
          "data": {
            "text/plain": [
              "['piateczek', 'praca domowa z mispow', 'Ilovemispy', 'mispy w czasie snu']"
            ]
          },
          "metadata": {
            "tags": []
          },
          "execution_count": 33
        }
      ]
    },
    {
      "cell_type": "code",
      "metadata": {
        "id": "PrwzaF3Y1TyB",
        "outputId": "a642a853-8911-4e52-e1f3-809a551cee3b",
        "colab": {
          "base_uri": "https://localhost:8080/",
          "height": 34
        }
      },
      "source": [
        "pio_zajecia.lista_zajec.append(\"misp\")\n",
        "print(pio_zajecia.lista_zajec)"
      ],
      "execution_count": 7,
      "outputs": [
        {
          "output_type": "stream",
          "text": [
            "['piateczek', 'praca domowa z mispow', 'Ilovemispy', 'mispy w czasie snu', 'misp']\n"
          ],
          "name": "stdout"
        }
      ]
    },
    {
      "cell_type": "code",
      "metadata": {
        "id": "7gBcPvGH1TyF",
        "outputId": "82a65337-7c4e-4473-e4b9-c2f840171264",
        "colab": {
          "base_uri": "https://localhost:8080/",
          "height": 34
        }
      },
      "source": [
        "pio_zajecia.ile_mispow()"
      ],
      "execution_count": 8,
      "outputs": [
        {
          "output_type": "execute_result",
          "data": {
            "text/plain": [
              "4"
            ]
          },
          "metadata": {
            "tags": []
          },
          "execution_count": 8
        }
      ]
    },
    {
      "cell_type": "code",
      "metadata": {
        "id": "dqO-xY6W1TyM",
        "outputId": "b4a72db1-2d0d-48c6-d92c-17b7f135d1a6",
        "colab": {
          "base_uri": "https://localhost:8080/",
          "height": 34
        }
      },
      "source": [
        "print(pio_zajecia.lista_zajec)\n"
      ],
      "execution_count": 9,
      "outputs": [
        {
          "output_type": "stream",
          "text": [
            "['piateczek', 'praca domowa z mispow', 'Ilovemispy', 'mispy w czasie snu', 'misp']\n"
          ],
          "name": "stdout"
        }
      ]
    },
    {
      "cell_type": "code",
      "metadata": {
        "id": "Scf2WQ4R1TyR",
        "outputId": "ef60d025-4e8f-4700-d9a1-b56bc73484e2",
        "colab": {
          "base_uri": "https://localhost:8080/",
          "height": 34
        }
      },
      "source": [
        "pio_zajecia"
      ],
      "execution_count": 10,
      "outputs": [
        {
          "output_type": "execute_result",
          "data": {
            "text/plain": [
              "W dzien piatek mam zajecia: piateczek, praca domowa z mispow, Ilovemispy, mispy w czasie snu, misp"
            ]
          },
          "metadata": {
            "tags": []
          },
          "execution_count": 10
        }
      ]
    },
    {
      "cell_type": "code",
      "metadata": {
        "id": "TbYAfMIc1TyV",
        "outputId": "ce353a71-317f-4d50-d8c1-9202ed20ae49"
      },
      "source": [
        "print(pio_zajecia.ile_zajec)"
      ],
      "execution_count": null,
      "outputs": [
        {
          "output_type": "stream",
          "text": [
            "5\n"
          ],
          "name": "stdout"
        }
      ]
    },
    {
      "cell_type": "code",
      "metadata": {
        "id": "D0DYYZQv1TyZ"
      },
      "source": [
        "lista_zajec= [DzienZajec(lista_dzien, dzien) for lista_dzien, dzien in \n",
        "             zip(zajecia,dnityg)]"
      ],
      "execution_count": 11,
      "outputs": []
    },
    {
      "cell_type": "code",
      "metadata": {
        "id": "bEI-S1wU1Tyb",
        "outputId": "2fba6cc9-dab7-45f3-f3c3-335789eb7417",
        "colab": {
          "base_uri": "https://localhost:8080/",
          "height": 54
        }
      },
      "source": [
        "print(lista_zajec)"
      ],
      "execution_count": 12,
      "outputs": [
        {
          "output_type": "stream",
          "text": [
            "[W dzien Pon mam zajecia: wf, W dzien Wto mam zajecia: informatyka, nauka czytania, W dzien Sro mam zajecia: relax, jedzenie, W dzien Czwar mam zajecia: mispy, mispy w domu, W dzien Pio mam zajecia: piateczek, praca domowa z mispow, Ilovemispy, mispy w czasie snu]\n"
          ],
          "name": "stdout"
        }
      ]
    },
    {
      "cell_type": "code",
      "metadata": {
        "id": "vRiR6usI1Tye"
      },
      "source": [
        "posortowane_po_zajeciach=sorted(lista_zajec, key= lambda zajecie: zajecie.ile_zajec)\n",
        "posortowane_po_mispach=sorted(lista_zajec, key= lambda zajecie: zajecie.ile_mispow())"
      ],
      "execution_count": null,
      "outputs": []
    },
    {
      "cell_type": "code",
      "metadata": {
        "id": "oN6Iyr0q1Tyi",
        "outputId": "77835164-7db4-444a-9b0d-4d82b54d3547"
      },
      "source": [
        "print(posortowane_po_zajeciach)"
      ],
      "execution_count": null,
      "outputs": [
        {
          "output_type": "stream",
          "text": [
            "[W dzien Pon mam zajecia: wf, W dzien Wto mam zajecia: informatyka, nauka czytania, W dzien Sro mam zajecia: relax, jedzenie, W dzien Czwar mam zajecia: mispy, mispy w domu, W dzien Pio mam zajecia: piateczek, praca domowa z mispow, Ilovemispy, mispy w czasie snu]\n"
          ],
          "name": "stdout"
        }
      ]
    },
    {
      "cell_type": "code",
      "metadata": {
        "id": "bblQlWXB1Tyl",
        "outputId": "d57b7341-98b1-4d5d-b61d-70cecf4a549f"
      },
      "source": [
        "print(posortowane_po_mispach)"
      ],
      "execution_count": null,
      "outputs": [
        {
          "output_type": "stream",
          "text": [
            "[W dzien Pon mam zajecia: wf, W dzien Wto mam zajecia: informatyka, nauka czytania, W dzien Sro mam zajecia: relax, jedzenie, W dzien Czwar mam zajecia: mispy, mispy w domu, W dzien Pio mam zajecia: piateczek, praca domowa z mispow, Ilovemispy, mispy w czasie snu]\n"
          ],
          "name": "stdout"
        }
      ]
    },
    {
      "cell_type": "markdown",
      "metadata": {
        "id": "GhGyuJrE1Typ"
      },
      "source": [
        "##### challenge 1\n",
        "\n",
        "Stworz typ NumerTelefonu\n",
        "\n",
        " -- przy tworzeniu sprawdza czy właściwy numer (Polski) jeśli nie pisze, że error (ew. Exception)\n",
        " \n",
        " -- gdy printuję to mi pisze polskimi słowami i.e. \"jeden, pięć, siedem, zero\"\n",
        " \n",
        " -- gdy wywołuję właściwość wojewodzwtwo, podaje mi wojewodztwo ew. ze to komorkowy\n",
        " \n",
        " "
      ]
    },
    {
      "cell_type": "code",
      "metadata": {
        "id": "sbaOgEpEly1j",
        "outputId": "d311be2b-f755-41f6-a3d1-93f8b4ad7ab2",
        "colab": {
          "base_uri": "https://localhost:8080/",
          "height": 583
        }
      },
      "source": [
        "class NumerTelefonu():\n",
        "    \"\"\"obekt numeru\"\"\"\n",
        "    \n",
        "    __area_codes = {75:\"Dolnośląskie\",76:\"Dolnośląskie\",74:\"Dolnośląskie\",\n",
        "              71:\"Dolnośląskie\",52:\"Kujawsko-pomorskie\",56:\"Kujawsko-pomorskie\",\n",
        "              54:\"Kujawsko-pomorskie\",83:\"Lubelskie\",82:\"Lubelskie\",81:\"Lubelskie\",\n",
        "              84:\"Lubelskie\",95:\"Lubuskie\",68:\"Lubuskie\",42:\"Łódzkie\",44:\"Łódzkie\",\n",
        "              43:\"Łódzkie\",46:\"Łódzkie\",12:\"Małopolskie\",18:\"Małopolskie\",14:\"Małopolskie\",\n",
        "              23:\"Mazowieckie\",29:\"Mazowieckie\",24:\"Mazowieckie\",48:\"Mazowieckie\",\n",
        "              25:\"Mazowieckie\",22:\"Mazowieckie\",77:\"Opolskie\",13:\"Podkarpackie\",\n",
        "              16:\"Podkarpackie\",17:\"Podkarpackie\",15:\"Podkarpackie\",85:\"Podlaskie\",\n",
        "              86:\"Podlaskie\",87:\"Podlaskie\",58:\"Pomorskie\",59:\"Pomorskie\",33:\"Śląskie\",\n",
        "              34:\"Śląskie\",32:\"Śląskie\",41:\"Świętokrzyskie\",55:\"Warmińsko-mazurskie\",\n",
        "              89:\"Warmińsko-mazurskie\",62:\"Wielkopolskie\",63:\"Wielkopolskie\",65:\"Wielkopolskie\",\n",
        "              67:\"Wielkopolskie\",61:\"Wielkopolskie\",94:\"Zachodnio-pomorskie\",91:\"Zachodnio-pomorskie\"}\n",
        "\n",
        "    __num_strings = [\"zero\",\"jeden\",\"dwa\",\"trzy\",\"cztery\",\n",
        "                     \"pięć\",\"sześć\",\"siedem\",\"osiem\",\"dziewięć\"]\n",
        "    \n",
        "    def __init__(self, podany_numer): #definicja\n",
        "        podany_numer=podany_numer.replace(\" \",\"\").replace(\"-\",\"\").replace(\"+\",\"\")\n",
        "        if not podany_numer.isdigit() or len(podany_numer) != 9:\n",
        "          raise ValueError(\"To nie jest poprawny numer telefonu\")\n",
        "          #print(\"numer niepoprawnu\")\n",
        "        self.numer=podany_numer\n",
        "        print(\"numer poprawnu\")\n",
        "\n",
        "    @property #zamienia na wlasciwosc   \n",
        "    def wojewodztwo(self):\n",
        "        try:\n",
        "          print(self.__area_codes[int(self.numer[0:2])]) \n",
        "        except:\n",
        "          print(\"komórkowy\")\n",
        "    \n",
        "    def __repr__(self):\n",
        "        numer_slownie = \"\"\n",
        "        for n in range(len(self.numer)):\n",
        "          numer_slownie = numer_slownie+self.__num_strings[int(self.numer[n])]+\" \"\n",
        "        return numer_slownie \n",
        "\n",
        "numer_dolnoslaskie = NumerTelefonu(\"756877868\")\n",
        "\n",
        "print(numer_dolnoslaskie.numer)\n",
        "numer_dolnoslaskie.wojewodztwo\n",
        "print(numer_dolnoslaskie)\n",
        "print(\"=\"*80)\n",
        "        \n",
        "numer_lodz = NumerTelefonu(\"+42 687-78-68\")\n",
        "\n",
        "print(numer_lodz.numer)\n",
        "numer_lodz.wojewodztwo\n",
        "print(numer_lodz)\n",
        "print(\"=\"*80)\n",
        "\n",
        "numer_kom = NumerTelefonu(\"500100100\")\n",
        "\n",
        "print(numer_kom.numer)\n",
        "numer_kom.wojewodztwo\n",
        "print(numer_kom)\n",
        "print(\"=\"*80)\n",
        "\n",
        "numer_bad = NumerTelefonu(\"500bad100\")"
      ],
      "execution_count": 164,
      "outputs": [
        {
          "output_type": "stream",
          "text": [
            "numer poprawnu\n",
            "756877868\n",
            "Dolnośląskie\n",
            "siedem pięć sześć osiem siedem siedem osiem sześć osiem \n",
            "================================================================================\n",
            "numer poprawnu\n",
            "426877868\n",
            "Łódzkie\n",
            "cztery dwa sześć osiem siedem siedem osiem sześć osiem \n",
            "================================================================================\n",
            "numer poprawnu\n",
            "500100100\n",
            "komórkowy\n",
            "pięć zero zero jeden zero zero jeden zero zero \n",
            "================================================================================\n"
          ],
          "name": "stdout"
        },
        {
          "output_type": "error",
          "ename": "ValueError",
          "evalue": "ignored",
          "traceback": [
            "\u001b[0;31m---------------------------------------------------------------------------\u001b[0m",
            "\u001b[0;31mValueError\u001b[0m                                Traceback (most recent call last)",
            "\u001b[0;32m<ipython-input-164-9fa6695d5a1d>\u001b[0m in \u001b[0;36m<module>\u001b[0;34m()\u001b[0m\n\u001b[1;32m     60\u001b[0m \u001b[0mprint\u001b[0m\u001b[0;34m(\u001b[0m\u001b[0;34m\"=\"\u001b[0m\u001b[0;34m*\u001b[0m\u001b[0;36m80\u001b[0m\u001b[0;34m)\u001b[0m\u001b[0;34m\u001b[0m\u001b[0;34m\u001b[0m\u001b[0m\n\u001b[1;32m     61\u001b[0m \u001b[0;34m\u001b[0m\u001b[0m\n\u001b[0;32m---> 62\u001b[0;31m \u001b[0mnumer_bad\u001b[0m \u001b[0;34m=\u001b[0m \u001b[0mNumerTelefonu\u001b[0m\u001b[0;34m(\u001b[0m\u001b[0;34m\"500bad100\"\u001b[0m\u001b[0;34m)\u001b[0m\u001b[0;34m\u001b[0m\u001b[0;34m\u001b[0m\u001b[0m\n\u001b[0m",
            "\u001b[0;32m<ipython-input-164-9fa6695d5a1d>\u001b[0m in \u001b[0;36m__init__\u001b[0;34m(self, podany_numer)\u001b[0m\n\u001b[1;32m     21\u001b[0m         \u001b[0mpodany_numer\u001b[0m\u001b[0;34m=\u001b[0m\u001b[0mpodany_numer\u001b[0m\u001b[0;34m.\u001b[0m\u001b[0mreplace\u001b[0m\u001b[0;34m(\u001b[0m\u001b[0;34m\" \"\u001b[0m\u001b[0;34m,\u001b[0m\u001b[0;34m\"\"\u001b[0m\u001b[0;34m)\u001b[0m\u001b[0;34m.\u001b[0m\u001b[0mreplace\u001b[0m\u001b[0;34m(\u001b[0m\u001b[0;34m\"-\"\u001b[0m\u001b[0;34m,\u001b[0m\u001b[0;34m\"\"\u001b[0m\u001b[0;34m)\u001b[0m\u001b[0;34m.\u001b[0m\u001b[0mreplace\u001b[0m\u001b[0;34m(\u001b[0m\u001b[0;34m\"+\"\u001b[0m\u001b[0;34m,\u001b[0m\u001b[0;34m\"\"\u001b[0m\u001b[0;34m)\u001b[0m\u001b[0;34m\u001b[0m\u001b[0;34m\u001b[0m\u001b[0m\n\u001b[1;32m     22\u001b[0m         \u001b[0;32mif\u001b[0m \u001b[0;32mnot\u001b[0m \u001b[0mpodany_numer\u001b[0m\u001b[0;34m.\u001b[0m\u001b[0misdigit\u001b[0m\u001b[0;34m(\u001b[0m\u001b[0;34m)\u001b[0m \u001b[0;32mor\u001b[0m \u001b[0mlen\u001b[0m\u001b[0;34m(\u001b[0m\u001b[0mpodany_numer\u001b[0m\u001b[0;34m)\u001b[0m \u001b[0;34m!=\u001b[0m \u001b[0;36m9\u001b[0m\u001b[0;34m:\u001b[0m\u001b[0;34m\u001b[0m\u001b[0;34m\u001b[0m\u001b[0m\n\u001b[0;32m---> 23\u001b[0;31m           \u001b[0;32mraise\u001b[0m \u001b[0mValueError\u001b[0m\u001b[0;34m(\u001b[0m\u001b[0;34m\"To nie jest poprawny numer telefonu\"\u001b[0m\u001b[0;34m)\u001b[0m\u001b[0;34m\u001b[0m\u001b[0;34m\u001b[0m\u001b[0m\n\u001b[0m\u001b[1;32m     24\u001b[0m           \u001b[0;31m#print(\"numer niepoprawnu\")\u001b[0m\u001b[0;34m\u001b[0m\u001b[0;34m\u001b[0m\u001b[0;34m\u001b[0m\u001b[0m\n\u001b[1;32m     25\u001b[0m         \u001b[0mself\u001b[0m\u001b[0;34m.\u001b[0m\u001b[0mnumer\u001b[0m\u001b[0;34m=\u001b[0m\u001b[0mpodany_numer\u001b[0m\u001b[0;34m\u001b[0m\u001b[0;34m\u001b[0m\u001b[0m\n",
            "\u001b[0;31mValueError\u001b[0m: To nie jest poprawny numer telefonu"
          ]
        }
      ]
    },
    {
      "cell_type": "code",
      "metadata": {
        "id": "ACUFQhDl1Tyq"
      },
      "source": [
        "# ma na takie rzeczy być w stanie odpowiedzieć\n",
        "\n",
        "numer_lodz = NumerTelefonu(\"426877868\")\n",
        ">>> \"prawidlowy numer\"\n",
        "\n",
        "numer_lodz.wojewodztwo \n",
        ">>> \"Lodz\"\n",
        "\n",
        "print(numer_lodz)\n",
        ">>> \"cztery dwa sześć osiem siedem siedem osiem sześć osiem\""
      ],
      "execution_count": null,
      "outputs": []
    }
  ]
}