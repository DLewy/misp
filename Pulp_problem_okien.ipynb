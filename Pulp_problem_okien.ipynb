{
  "nbformat": 4,
  "nbformat_minor": 0,
  "metadata": {
    "colab": {
      "name": "Pulp_problem_okien.ipynb",
      "provenance": [],
      "collapsed_sections": []
    },
    "kernelspec": {
      "name": "python3",
      "display_name": "Python 3"
    },
    "widgets": {
      "application/vnd.jupyter.widget-state+json": {
        "6b9e379ece21475c9d7b9ac354d0efae": {
          "model_module": "@jupyter-widgets/controls",
          "model_name": "VBoxModel",
          "state": {
            "_view_name": "VBoxView",
            "_dom_classes": [
              "widget-interact"
            ],
            "_model_name": "VBoxModel",
            "_view_module": "@jupyter-widgets/controls",
            "_model_module_version": "1.5.0",
            "_view_count": null,
            "_view_module_version": "1.5.0",
            "box_style": "",
            "layout": "IPY_MODEL_31cafac1aa774a55ba3d2aac74b6b5ba",
            "_model_module": "@jupyter-widgets/controls",
            "children": [
              "IPY_MODEL_a73ff01f69c84210a201a1afcb33b27a",
              "IPY_MODEL_985eee4284184511831edff026209e75",
              "IPY_MODEL_081f87af31df4ec4b425977aa895f34f",
              "IPY_MODEL_bd5956b22bbd48f68b3d0362a2d94a9d",
              "IPY_MODEL_63cfc92f3fa9486c9d2e0f9669fd6592",
              "IPY_MODEL_44caa0279b99461da05209d3e74d5089",
              "IPY_MODEL_45c4e382d15649139bd472194dbc2cb9",
              "IPY_MODEL_da29d3cecd45478e871b14f223968af8",
              "IPY_MODEL_1ce1abdcd9bf42da88a2cf1d37710f64",
              "IPY_MODEL_7786fac505a24b7ba15a8a9ba65e5247",
              "IPY_MODEL_915ad902508b41aa86d73382ad060f08",
              "IPY_MODEL_e7d4d54c3dbe49aca4cdd71b6b9154e4"
            ]
          }
        },
        "31cafac1aa774a55ba3d2aac74b6b5ba": {
          "model_module": "@jupyter-widgets/base",
          "model_name": "LayoutModel",
          "state": {
            "_view_name": "LayoutView",
            "grid_template_rows": null,
            "right": null,
            "justify_content": null,
            "_view_module": "@jupyter-widgets/base",
            "overflow": null,
            "_model_module_version": "1.2.0",
            "_view_count": null,
            "flex_flow": null,
            "width": null,
            "min_width": null,
            "border": null,
            "align_items": null,
            "bottom": null,
            "_model_module": "@jupyter-widgets/base",
            "top": null,
            "grid_column": null,
            "overflow_y": null,
            "overflow_x": null,
            "grid_auto_flow": null,
            "grid_area": null,
            "grid_template_columns": null,
            "flex": null,
            "_model_name": "LayoutModel",
            "justify_items": null,
            "grid_row": null,
            "max_height": null,
            "align_content": null,
            "visibility": null,
            "align_self": null,
            "height": null,
            "min_height": null,
            "padding": null,
            "grid_auto_rows": null,
            "grid_gap": null,
            "max_width": null,
            "order": null,
            "_view_module_version": "1.2.0",
            "grid_template_areas": null,
            "object_position": null,
            "object_fit": null,
            "grid_auto_columns": null,
            "margin": null,
            "display": null,
            "left": null
          }
        },
        "a73ff01f69c84210a201a1afcb33b27a": {
          "model_module": "@jupyter-widgets/controls",
          "model_name": "FloatSliderModel",
          "state": {
            "_view_name": "FloatSliderView",
            "style": "IPY_MODEL_c3c78f7fcde24c5187f039ceb3a6db41",
            "_dom_classes": [],
            "description": "Zysk alu",
            "step": 100,
            "_model_name": "FloatSliderModel",
            "orientation": "horizontal",
            "max": 10000,
            "_view_module": "@jupyter-widgets/controls",
            "_model_module_version": "1.5.0",
            "value": 3000,
            "_view_count": null,
            "disabled": false,
            "_view_module_version": "1.5.0",
            "min": 500,
            "continuous_update": true,
            "readout_format": ".2f",
            "description_tooltip": null,
            "readout": true,
            "_model_module": "@jupyter-widgets/controls",
            "layout": "IPY_MODEL_24f749b8036d4b6fa6bf721fc288299c"
          }
        },
        "985eee4284184511831edff026209e75": {
          "model_module": "@jupyter-widgets/controls",
          "model_name": "FloatSliderModel",
          "state": {
            "_view_name": "FloatSliderView",
            "style": "IPY_MODEL_87e9c9ce2cd9478b9d564ab2dee6adbc",
            "_dom_classes": [],
            "description": "Zysk drewniane",
            "step": 100,
            "_model_name": "FloatSliderModel",
            "orientation": "horizontal",
            "max": 10000,
            "_view_module": "@jupyter-widgets/controls",
            "_model_module_version": "1.5.0",
            "value": 5000,
            "_view_count": null,
            "disabled": false,
            "_view_module_version": "1.5.0",
            "min": 500,
            "continuous_update": true,
            "readout_format": ".2f",
            "description_tooltip": null,
            "readout": true,
            "_model_module": "@jupyter-widgets/controls",
            "layout": "IPY_MODEL_24f749b8036d4b6fa6bf721fc288299c"
          }
        },
        "081f87af31df4ec4b425977aa895f34f": {
          "model_module": "@jupyter-widgets/controls",
          "model_name": "FloatSliderModel",
          "state": {
            "_view_name": "FloatSliderView",
            "style": "IPY_MODEL_f26ad1c25a1e4b0f9dfa5df1a45a8a81",
            "_dom_classes": [],
            "description": "Godziny alu F1",
            "step": 0.5,
            "_model_name": "FloatSliderModel",
            "orientation": "horizontal",
            "max": 10,
            "_view_module": "@jupyter-widgets/controls",
            "_model_module_version": "1.5.0",
            "value": 1,
            "_view_count": null,
            "disabled": false,
            "_view_module_version": "1.5.0",
            "min": 0,
            "continuous_update": true,
            "readout_format": ".2f",
            "description_tooltip": null,
            "readout": true,
            "_model_module": "@jupyter-widgets/controls",
            "layout": "IPY_MODEL_24f749b8036d4b6fa6bf721fc288299c"
          }
        },
        "bd5956b22bbd48f68b3d0362a2d94a9d": {
          "model_module": "@jupyter-widgets/controls",
          "model_name": "FloatSliderModel",
          "state": {
            "_view_name": "FloatSliderView",
            "style": "IPY_MODEL_bcebe2096eff481db8503c563b785294",
            "_dom_classes": [],
            "description": "Godziny alu F2",
            "step": 0.5,
            "_model_name": "FloatSliderModel",
            "orientation": "horizontal",
            "max": 10,
            "_view_module": "@jupyter-widgets/controls",
            "_model_module_version": "1.5.0",
            "value": 0,
            "_view_count": null,
            "disabled": false,
            "_view_module_version": "1.5.0",
            "min": 0,
            "continuous_update": true,
            "readout_format": ".2f",
            "description_tooltip": null,
            "readout": true,
            "_model_module": "@jupyter-widgets/controls",
            "layout": "IPY_MODEL_24f749b8036d4b6fa6bf721fc288299c"
          }
        },
        "63cfc92f3fa9486c9d2e0f9669fd6592": {
          "model_module": "@jupyter-widgets/controls",
          "model_name": "FloatSliderModel",
          "state": {
            "_view_name": "FloatSliderView",
            "style": "IPY_MODEL_2332fc3e35a940b88ce81454c837be34",
            "_dom_classes": [],
            "description": "Godziny alu F3",
            "step": 0.5,
            "_model_name": "FloatSliderModel",
            "orientation": "horizontal",
            "max": 10,
            "_view_module": "@jupyter-widgets/controls",
            "_model_module_version": "1.5.0",
            "value": 3,
            "_view_count": null,
            "disabled": false,
            "_view_module_version": "1.5.0",
            "min": 0,
            "continuous_update": true,
            "readout_format": ".2f",
            "description_tooltip": null,
            "readout": true,
            "_model_module": "@jupyter-widgets/controls",
            "layout": "IPY_MODEL_24f749b8036d4b6fa6bf721fc288299c"
          }
        },
        "44caa0279b99461da05209d3e74d5089": {
          "model_module": "@jupyter-widgets/controls",
          "model_name": "FloatSliderModel",
          "state": {
            "_view_name": "FloatSliderView",
            "style": "IPY_MODEL_79b43f6ce23e40aba38c7edd5430d1c1",
            "_dom_classes": [],
            "description": "Godziny drewniane F1",
            "step": 0.5,
            "_model_name": "FloatSliderModel",
            "orientation": "horizontal",
            "max": 10,
            "_view_module": "@jupyter-widgets/controls",
            "_model_module_version": "1.5.0",
            "value": 0,
            "_view_count": null,
            "disabled": false,
            "_view_module_version": "1.5.0",
            "min": 0,
            "continuous_update": true,
            "readout_format": ".2f",
            "description_tooltip": null,
            "readout": true,
            "_model_module": "@jupyter-widgets/controls",
            "layout": "IPY_MODEL_24f749b8036d4b6fa6bf721fc288299c"
          }
        },
        "45c4e382d15649139bd472194dbc2cb9": {
          "model_module": "@jupyter-widgets/controls",
          "model_name": "FloatSliderModel",
          "state": {
            "_view_name": "FloatSliderView",
            "style": "IPY_MODEL_e10ced3b86ec421aae14091ea8a8d2ba",
            "_dom_classes": [],
            "description": "Godziny drewniane F2",
            "step": 0.5,
            "_model_name": "FloatSliderModel",
            "orientation": "horizontal",
            "max": 10,
            "_view_module": "@jupyter-widgets/controls",
            "_model_module_version": "1.5.0",
            "value": 2,
            "_view_count": null,
            "disabled": false,
            "_view_module_version": "1.5.0",
            "min": 0,
            "continuous_update": true,
            "readout_format": ".2f",
            "description_tooltip": null,
            "readout": true,
            "_model_module": "@jupyter-widgets/controls",
            "layout": "IPY_MODEL_24f749b8036d4b6fa6bf721fc288299c"
          }
        },
        "da29d3cecd45478e871b14f223968af8": {
          "model_module": "@jupyter-widgets/controls",
          "model_name": "FloatSliderModel",
          "state": {
            "_view_name": "FloatSliderView",
            "style": "IPY_MODEL_693260bc91db4232a9d4fed8862ab3ae",
            "_dom_classes": [],
            "description": "Godziny drewniane F3",
            "step": 0.5,
            "_model_name": "FloatSliderModel",
            "orientation": "horizontal",
            "max": 10,
            "_view_module": "@jupyter-widgets/controls",
            "_model_module_version": "1.5.0",
            "value": 2,
            "_view_count": null,
            "disabled": false,
            "_view_module_version": "1.5.0",
            "min": 0,
            "continuous_update": true,
            "readout_format": ".2f",
            "description_tooltip": null,
            "readout": true,
            "_model_module": "@jupyter-widgets/controls",
            "layout": "IPY_MODEL_24f749b8036d4b6fa6bf721fc288299c"
          }
        },
        "1ce1abdcd9bf42da88a2cf1d37710f64": {
          "model_module": "@jupyter-widgets/controls",
          "model_name": "FloatSliderModel",
          "state": {
            "_view_name": "FloatSliderView",
            "style": "IPY_MODEL_bb0714d17d3f4980bb237443d303a0ff",
            "_dom_classes": [],
            "description": "Maks godz. F1",
            "step": 0.5,
            "_model_name": "FloatSliderModel",
            "orientation": "horizontal",
            "max": 50,
            "_view_module": "@jupyter-widgets/controls",
            "_model_module_version": "1.5.0",
            "value": 4,
            "_view_count": null,
            "disabled": false,
            "_view_module_version": "1.5.0",
            "min": 0,
            "continuous_update": true,
            "readout_format": ".2f",
            "description_tooltip": null,
            "readout": true,
            "_model_module": "@jupyter-widgets/controls",
            "layout": "IPY_MODEL_24f749b8036d4b6fa6bf721fc288299c"
          }
        },
        "7786fac505a24b7ba15a8a9ba65e5247": {
          "model_module": "@jupyter-widgets/controls",
          "model_name": "FloatSliderModel",
          "state": {
            "_view_name": "FloatSliderView",
            "style": "IPY_MODEL_dfce16f0be08446f94ce1f9bbd87b536",
            "_dom_classes": [],
            "description": "Maks godz. F2",
            "step": 0.5,
            "_model_name": "FloatSliderModel",
            "orientation": "horizontal",
            "max": 50,
            "_view_module": "@jupyter-widgets/controls",
            "_model_module_version": "1.5.0",
            "value": 12,
            "_view_count": null,
            "disabled": false,
            "_view_module_version": "1.5.0",
            "min": 0,
            "continuous_update": true,
            "readout_format": ".2f",
            "description_tooltip": null,
            "readout": true,
            "_model_module": "@jupyter-widgets/controls",
            "layout": "IPY_MODEL_24f749b8036d4b6fa6bf721fc288299c"
          }
        },
        "915ad902508b41aa86d73382ad060f08": {
          "model_module": "@jupyter-widgets/controls",
          "model_name": "FloatSliderModel",
          "state": {
            "_view_name": "FloatSliderView",
            "style": "IPY_MODEL_32d15080afd64cc5925d9a4df9586c75",
            "_dom_classes": [],
            "description": "Maks godz. F3",
            "step": 0.5,
            "_model_name": "FloatSliderModel",
            "orientation": "horizontal",
            "max": 50,
            "_view_module": "@jupyter-widgets/controls",
            "_model_module_version": "1.5.0",
            "value": 18,
            "_view_count": null,
            "disabled": false,
            "_view_module_version": "1.5.0",
            "min": 0,
            "continuous_update": true,
            "readout_format": ".2f",
            "description_tooltip": null,
            "readout": true,
            "_model_module": "@jupyter-widgets/controls",
            "layout": "IPY_MODEL_24f749b8036d4b6fa6bf721fc288299c"
          }
        },
        "e7d4d54c3dbe49aca4cdd71b6b9154e4": {
          "model_module": "@jupyter-widgets/output",
          "model_name": "OutputModel",
          "state": {
            "_view_name": "OutputView",
            "msg_id": "",
            "_dom_classes": [],
            "_model_name": "OutputModel",
            "outputs": [
              {
                "output_type": "stream",
                "metadata": {
                  "tags": []
                },
                "text": "\nStatus: Optimal\nKońcowy zysk 36000.0$, okna: {'partie_alu': '2.0', 'partie_drewniane': '6.0'}\n\n***************Shadow Prices***************\n                    name  shadow price  slack\n0  Maks_godziny/tyg_w_F1          -0.0    2.0\n1  Maks_godziny/tyg_w_F2          -0.0   -0.0\n2  Maks_godziny/tyg_w_F3          -0.0   -0.0\n",
                "stream": "stdout"
              }
            ],
            "_view_module": "@jupyter-widgets/output",
            "_model_module_version": "1.0.0",
            "_view_count": null,
            "_view_module_version": "1.0.0",
            "layout": "IPY_MODEL_33cf9a9f8ada45d8895558fcf2b5168c",
            "_model_module": "@jupyter-widgets/output"
          }
        },
        "c3c78f7fcde24c5187f039ceb3a6db41": {
          "model_module": "@jupyter-widgets/controls",
          "model_name": "SliderStyleModel",
          "state": {
            "_view_name": "StyleView",
            "handle_color": null,
            "_model_name": "SliderStyleModel",
            "description_width": "200px",
            "_view_module": "@jupyter-widgets/base",
            "_model_module_version": "1.5.0",
            "_view_count": null,
            "_view_module_version": "1.2.0",
            "_model_module": "@jupyter-widgets/controls"
          }
        },
        "24f749b8036d4b6fa6bf721fc288299c": {
          "model_module": "@jupyter-widgets/base",
          "model_name": "LayoutModel",
          "state": {
            "_view_name": "LayoutView",
            "grid_template_rows": null,
            "right": null,
            "justify_content": null,
            "_view_module": "@jupyter-widgets/base",
            "overflow": null,
            "_model_module_version": "1.2.0",
            "_view_count": null,
            "flex_flow": null,
            "width": "50%",
            "min_width": null,
            "border": null,
            "align_items": null,
            "bottom": null,
            "_model_module": "@jupyter-widgets/base",
            "top": null,
            "grid_column": null,
            "overflow_y": null,
            "overflow_x": null,
            "grid_auto_flow": null,
            "grid_area": null,
            "grid_template_columns": null,
            "flex": null,
            "_model_name": "LayoutModel",
            "justify_items": null,
            "grid_row": null,
            "max_height": null,
            "align_content": null,
            "visibility": null,
            "align_self": null,
            "height": "auto",
            "min_height": null,
            "padding": null,
            "grid_auto_rows": null,
            "grid_gap": "50px",
            "max_width": null,
            "order": null,
            "_view_module_version": "1.2.0",
            "grid_template_areas": null,
            "object_position": null,
            "object_fit": null,
            "grid_auto_columns": null,
            "margin": null,
            "display": null,
            "left": null
          }
        },
        "87e9c9ce2cd9478b9d564ab2dee6adbc": {
          "model_module": "@jupyter-widgets/controls",
          "model_name": "SliderStyleModel",
          "state": {
            "_view_name": "StyleView",
            "handle_color": null,
            "_model_name": "SliderStyleModel",
            "description_width": "200px",
            "_view_module": "@jupyter-widgets/base",
            "_model_module_version": "1.5.0",
            "_view_count": null,
            "_view_module_version": "1.2.0",
            "_model_module": "@jupyter-widgets/controls"
          }
        },
        "f26ad1c25a1e4b0f9dfa5df1a45a8a81": {
          "model_module": "@jupyter-widgets/controls",
          "model_name": "SliderStyleModel",
          "state": {
            "_view_name": "StyleView",
            "handle_color": null,
            "_model_name": "SliderStyleModel",
            "description_width": "200px",
            "_view_module": "@jupyter-widgets/base",
            "_model_module_version": "1.5.0",
            "_view_count": null,
            "_view_module_version": "1.2.0",
            "_model_module": "@jupyter-widgets/controls"
          }
        },
        "bcebe2096eff481db8503c563b785294": {
          "model_module": "@jupyter-widgets/controls",
          "model_name": "SliderStyleModel",
          "state": {
            "_view_name": "StyleView",
            "handle_color": null,
            "_model_name": "SliderStyleModel",
            "description_width": "200px",
            "_view_module": "@jupyter-widgets/base",
            "_model_module_version": "1.5.0",
            "_view_count": null,
            "_view_module_version": "1.2.0",
            "_model_module": "@jupyter-widgets/controls"
          }
        },
        "2332fc3e35a940b88ce81454c837be34": {
          "model_module": "@jupyter-widgets/controls",
          "model_name": "SliderStyleModel",
          "state": {
            "_view_name": "StyleView",
            "handle_color": null,
            "_model_name": "SliderStyleModel",
            "description_width": "200px",
            "_view_module": "@jupyter-widgets/base",
            "_model_module_version": "1.5.0",
            "_view_count": null,
            "_view_module_version": "1.2.0",
            "_model_module": "@jupyter-widgets/controls"
          }
        },
        "79b43f6ce23e40aba38c7edd5430d1c1": {
          "model_module": "@jupyter-widgets/controls",
          "model_name": "SliderStyleModel",
          "state": {
            "_view_name": "StyleView",
            "handle_color": null,
            "_model_name": "SliderStyleModel",
            "description_width": "200px",
            "_view_module": "@jupyter-widgets/base",
            "_model_module_version": "1.5.0",
            "_view_count": null,
            "_view_module_version": "1.2.0",
            "_model_module": "@jupyter-widgets/controls"
          }
        },
        "e10ced3b86ec421aae14091ea8a8d2ba": {
          "model_module": "@jupyter-widgets/controls",
          "model_name": "SliderStyleModel",
          "state": {
            "_view_name": "StyleView",
            "handle_color": null,
            "_model_name": "SliderStyleModel",
            "description_width": "200px",
            "_view_module": "@jupyter-widgets/base",
            "_model_module_version": "1.5.0",
            "_view_count": null,
            "_view_module_version": "1.2.0",
            "_model_module": "@jupyter-widgets/controls"
          }
        },
        "693260bc91db4232a9d4fed8862ab3ae": {
          "model_module": "@jupyter-widgets/controls",
          "model_name": "SliderStyleModel",
          "state": {
            "_view_name": "StyleView",
            "handle_color": null,
            "_model_name": "SliderStyleModel",
            "description_width": "200px",
            "_view_module": "@jupyter-widgets/base",
            "_model_module_version": "1.5.0",
            "_view_count": null,
            "_view_module_version": "1.2.0",
            "_model_module": "@jupyter-widgets/controls"
          }
        },
        "bb0714d17d3f4980bb237443d303a0ff": {
          "model_module": "@jupyter-widgets/controls",
          "model_name": "SliderStyleModel",
          "state": {
            "_view_name": "StyleView",
            "handle_color": null,
            "_model_name": "SliderStyleModel",
            "description_width": "200px",
            "_view_module": "@jupyter-widgets/base",
            "_model_module_version": "1.5.0",
            "_view_count": null,
            "_view_module_version": "1.2.0",
            "_model_module": "@jupyter-widgets/controls"
          }
        },
        "dfce16f0be08446f94ce1f9bbd87b536": {
          "model_module": "@jupyter-widgets/controls",
          "model_name": "SliderStyleModel",
          "state": {
            "_view_name": "StyleView",
            "handle_color": null,
            "_model_name": "SliderStyleModel",
            "description_width": "200px",
            "_view_module": "@jupyter-widgets/base",
            "_model_module_version": "1.5.0",
            "_view_count": null,
            "_view_module_version": "1.2.0",
            "_model_module": "@jupyter-widgets/controls"
          }
        },
        "32d15080afd64cc5925d9a4df9586c75": {
          "model_module": "@jupyter-widgets/controls",
          "model_name": "SliderStyleModel",
          "state": {
            "_view_name": "StyleView",
            "handle_color": null,
            "_model_name": "SliderStyleModel",
            "description_width": "200px",
            "_view_module": "@jupyter-widgets/base",
            "_model_module_version": "1.5.0",
            "_view_count": null,
            "_view_module_version": "1.2.0",
            "_model_module": "@jupyter-widgets/controls"
          }
        },
        "33cf9a9f8ada45d8895558fcf2b5168c": {
          "model_module": "@jupyter-widgets/base",
          "model_name": "LayoutModel",
          "state": {
            "_view_name": "LayoutView",
            "grid_template_rows": null,
            "right": null,
            "justify_content": null,
            "_view_module": "@jupyter-widgets/base",
            "overflow": null,
            "_model_module_version": "1.2.0",
            "_view_count": null,
            "flex_flow": null,
            "width": null,
            "min_width": null,
            "border": null,
            "align_items": null,
            "bottom": null,
            "_model_module": "@jupyter-widgets/base",
            "top": null,
            "grid_column": null,
            "overflow_y": null,
            "overflow_x": null,
            "grid_auto_flow": null,
            "grid_area": null,
            "grid_template_columns": null,
            "flex": null,
            "_model_name": "LayoutModel",
            "justify_items": null,
            "grid_row": null,
            "max_height": null,
            "align_content": null,
            "visibility": null,
            "align_self": null,
            "height": null,
            "min_height": null,
            "padding": null,
            "grid_auto_rows": null,
            "grid_gap": null,
            "max_width": null,
            "order": null,
            "_view_module_version": "1.2.0",
            "grid_template_areas": null,
            "object_position": null,
            "object_fit": null,
            "grid_auto_columns": null,
            "margin": null,
            "display": null,
            "left": null
          }
        }
      }
    }
  },
  "cells": [
    {
      "cell_type": "code",
      "metadata": {
        "id": "BjX-mj9e8D5a"
      },
      "source": [
        "!pip install pulp\n",
        "\n",
        "!sudo apt-get install coinor-cbc glpk-utils coinor-clp\n"
      ],
      "execution_count": null,
      "outputs": []
    },
    {
      "cell_type": "markdown",
      "metadata": {
        "id": "lar9HuumZAzf"
      },
      "source": [
        "| Fabryka    | Partia alu | Partia drewniana | Max czas tygodniowo |\n",
        "|------------|------------|------------------|---------------------|\n",
        "| F1         | 1 h.       | X                | 4 h.                |\n",
        "| F2         | X          | 2 h.             | 12 h.               |\n",
        "| F3         | 3 h.       | 2 h.             | 18 h.               |\n",
        "|**Zysk**    | 3000\\$     | 5000\\$           |                     |"
      ]
    },
    {
      "cell_type": "code",
      "metadata": {
        "id": "V4nHtR9YkeWs",
        "outputId": "2ef269bb-3862-46f0-fbc4-fdb114993da9",
        "colab": {
          "base_uri": "https://localhost:8080/",
          "height": 537,
          "referenced_widgets": [
            "6b9e379ece21475c9d7b9ac354d0efae",
            "31cafac1aa774a55ba3d2aac74b6b5ba",
            "a73ff01f69c84210a201a1afcb33b27a",
            "985eee4284184511831edff026209e75",
            "081f87af31df4ec4b425977aa895f34f",
            "bd5956b22bbd48f68b3d0362a2d94a9d",
            "63cfc92f3fa9486c9d2e0f9669fd6592",
            "44caa0279b99461da05209d3e74d5089",
            "45c4e382d15649139bd472194dbc2cb9",
            "da29d3cecd45478e871b14f223968af8",
            "1ce1abdcd9bf42da88a2cf1d37710f64",
            "7786fac505a24b7ba15a8a9ba65e5247",
            "915ad902508b41aa86d73382ad060f08",
            "e7d4d54c3dbe49aca4cdd71b6b9154e4",
            "c3c78f7fcde24c5187f039ceb3a6db41",
            "24f749b8036d4b6fa6bf721fc288299c",
            "87e9c9ce2cd9478b9d564ab2dee6adbc",
            "f26ad1c25a1e4b0f9dfa5df1a45a8a81",
            "bcebe2096eff481db8503c563b785294",
            "2332fc3e35a940b88ce81454c837be34",
            "79b43f6ce23e40aba38c7edd5430d1c1",
            "e10ced3b86ec421aae14091ea8a8d2ba",
            "693260bc91db4232a9d4fed8862ab3ae",
            "bb0714d17d3f4980bb237443d303a0ff",
            "dfce16f0be08446f94ce1f9bbd87b536",
            "32d15080afd64cc5925d9a4df9586c75",
            "33cf9a9f8ada45d8895558fcf2b5168c"
          ]
        }
      },
      "source": [
        "from pulp import *\n",
        "#print(pulp.__version__)\n",
        "from __future__ import print_function\n",
        "from ipywidgets import interact, interactive, fixed, interact_manual, Layout, FloatSlider, IntSlider\n",
        "import ipywidgets as widgets\n",
        "import pandas as pd\n",
        "\n",
        "style = {'description_width': '200px'}\n",
        "layout= Layout(width='50%', height='auto',grid_gap=\"50px\")\n",
        "\n",
        "\n",
        "zysk_alu_slider = FloatSlider(min=500,max=10000,value=3000,description=\"Zysk alu\",style=style,layout=layout,step=100)\n",
        "zysk_drewniane_slider = FloatSlider(min=500,max=10000,value=5000,description=\"Zysk drewniane\",style=style,layout=layout,step=100)\n",
        "godz_alu_F1_slider = FloatSlider(min=0,max=10,value=1,description=\"Godziny alu F1\",style=style,layout=layout,step=0.5)\n",
        "godz_alu_F2_slider = FloatSlider(min=0,max=10,value=0,description=\"Godziny alu F2\",style=style,layout=layout,step=0.5)\n",
        "godz_alu_F3_slider = FloatSlider(min=0,max=10,value=3,description=\"Godziny alu F3\",style=style,layout=layout,step=0.5)\n",
        "godz_drewniane_F1_slider = FloatSlider(min=0,max=10,value=0,description=\"Godziny drewniane F1\",style=style,layout=layout,step=0.5)\n",
        "godz_drewniane_F2_slider = FloatSlider(min=0,max=10,value=2,description=\"Godziny drewniane F2\",style=style,layout=layout,step=0.5)\n",
        "godz_drewniane_F3_slider = FloatSlider(min=0,max=10,value=2,description=\"Godziny drewniane F3\",style=style,layout=layout,step=0.5)\n",
        "maks_godz_F1_slider = FloatSlider(min=0,max=50,value=4,description=\"Maks godz. F1\",style=style,layout=layout,step=0.5)\n",
        "maks_godz_F2_slider = FloatSlider(min=0,max=50,value=12,description=\"Maks godz. F2\",style=style,layout=layout,step=0.5)\n",
        "maks_godz_F3_slider = FloatSlider(min=0,max=50,value=18,description=\"Maks godz. F3\",style=style,layout=layout,step=0.5)\n",
        "\n",
        "def produkcja_okien(\n",
        "    zysk_alu = 3000,\n",
        "    zysk_drewniane = 5000,\n",
        "    godz_alu_F1 = 1,\n",
        "    godz_alu_F2 = 0,\n",
        "    godz_alu_F3 = 3,\n",
        "    godz_drewniane_F1 = 0,\n",
        "    godz_drewniane_F2 = 2,\n",
        "    godz_drewniane_F3 = 2,\n",
        "    maks_godz_F1 = 4,\n",
        "    maks_godz_F2 = 12,\n",
        "    maks_godz_F3 = 18\n",
        "    ):\n",
        "  \n",
        "    \n",
        "    prob = LpProblem(\"Maksymalizacja_zysku_z_okien\",LpMaximize)\n",
        "\n",
        "    x1=LpVariable(\"partie_alu\",0,None,LpInteger)\n",
        "    x2=LpVariable(\"partie_drewniane\",0,None,LpInteger)\n",
        "\n",
        "    prob += zysk_alu*x1 + zysk_drewniane*x2   #zysk\n",
        "\n",
        "    prob += godz_alu_F1*x1 + godz_drewniane_F1*x2 <= maks_godz_F1, \"Maks godziny/tyg w F1\"\n",
        "    prob += godz_alu_F2*x1 + godz_drewniane_F2*x2 <= maks_godz_F2, \"Maks godziny/tyg w F2\"\n",
        "    prob += godz_alu_F3*x1 + godz_drewniane_F3*x2 <= maks_godz_F3, \"Maks godziny/tyg w F3\"\n",
        "\n",
        "    if godz_alu_F1 == 0 and godz_alu_F2 == 0 and godz_alu_F3 == 0: prob += x1 == 0\n",
        "    if godz_drewniane_F1 == 0 and godz_drewniane_F2 == 0 and godz_drewniane_F3 == 0: prob += x2 == 0\n",
        "\n",
        "    prob.writeLP(\"okna.lp\")\n",
        "    prob.solve()\n",
        "\n",
        "    varsdict = {}\n",
        "\n",
        "    for v in prob.variables():\n",
        "        varsdict[v.name] = str(v.varValue)\n",
        "\n",
        "    #!cat \"okna.lp\"\n",
        "\n",
        "    print()\n",
        "    print(\"Status:\", LpStatus[prob.status])\n",
        "    print(\"Końcowy zysk {}$, okna: {}\".format(value(prob.objective),varsdict))\n",
        "    print()\n",
        "    shadows = [{'name':name, 'shadow price': c.pi, \"slack\": c.slack} for name, c in prob.constraints.items()]\n",
        "    print(\"*\"*15+\"Shadow Prices\"+\"*\"*15)\n",
        "    print(pd.DataFrame(shadows))\n",
        "    print(\"*\"*30)\n",
        "\n",
        "\n",
        "interact(\n",
        "    produkcja_okien,zysk_alu = zysk_alu_slider,\n",
        "    zysk_drewniane = zysk_drewniane_slider,\n",
        "    godz_alu_F1 = godz_alu_F1_slider,\n",
        "    godz_alu_F2 = godz_alu_F2_slider,\n",
        "    godz_alu_F3 = godz_alu_F3_slider,\n",
        "    godz_drewniane_F1 = godz_drewniane_F1_slider,\n",
        "    godz_drewniane_F2 = godz_drewniane_F2_slider,\n",
        "    godz_drewniane_F3 = godz_drewniane_F3_slider,\n",
        "    maks_godz_F1 = maks_godz_F1_slider,\n",
        "    maks_godz_F2 = maks_godz_F2_slider,\n",
        "    maks_godz_F3 = maks_godz_F3_slider\n",
        ")"
      ],
      "execution_count": null,
      "outputs": [
        {
          "output_type": "display_data",
          "data": {
            "application/vnd.jupyter.widget-view+json": {
              "model_id": "6b9e379ece21475c9d7b9ac354d0efae",
              "version_minor": 0,
              "version_major": 2
            },
            "text/plain": [
              "interactive(children=(FloatSlider(value=3000.0, description='Zysk alu', layout=Layout(grid_gap='50px', height=…"
            ]
          },
          "metadata": {
            "tags": []
          }
        },
        {
          "output_type": "execute_result",
          "data": {
            "text/plain": [
              "<function __main__.produkcja_okien>"
            ]
          },
          "metadata": {
            "tags": []
          },
          "execution_count": 24
        }
      ]
    }
  ]
}