{
  "nbformat": 4,
  "nbformat_minor": 0,
  "metadata": {
    "colab": {
      "name": "instalacja_pierwsze_cwiczenia_z_Pulp.ipynb",
      "provenance": [],
      "collapsed_sections": []
    },
    "kernelspec": {
      "name": "python3",
      "display_name": "Python 3"
    }
  },
  "cells": [
    {
      "cell_type": "code",
      "metadata": {
        "id": "BjX-mj9e8D5a"
      },
      "source": [
        "!pip install pulp\n",
        "\n",
        "!sudo apt-get install coinor-cbc glpk-utils coinor-clp\n"
      ],
      "execution_count": null,
      "outputs": []
    },
    {
      "cell_type": "code",
      "metadata": {
        "id": "HMGiufp89W-9"
      },
      "source": [
        "### kod sprawdza czy instalacja się udała\n",
        "import pulp\n",
        "\n",
        "print(pulp.__version__)"
      ],
      "execution_count": null,
      "outputs": []
    },
    {
      "cell_type": "code",
      "metadata": {
        "id": "05p9Frax-V2f"
      },
      "source": [
        "pulp.pulpTestAll()"
      ],
      "execution_count": null,
      "outputs": []
    },
    {
      "cell_type": "code",
      "metadata": {
        "id": "BhWf9b8IMJZ7",
        "outputId": "c4e437d7-32da-4e82-b320-cbbfe1a50941",
        "colab": {
          "base_uri": "https://localhost:8080/",
          "height": 53
        }
      },
      "source": [
        "sklejone_produkt_cena = [\":\".join((produkt, str(cena))) for produkt,cena in zip([\"jabłko\",\"banan\"],[5,10])]\n",
        "print(sklejone_produkt_cena)\n",
        "sklejona_calosc = \", \".join(sklejone_produkt_cena)\n",
        "\n",
        "print(sklejona_calosc)"
      ],
      "execution_count": null,
      "outputs": [
        {
          "output_type": "stream",
          "text": [
            "['jabłko:5', 'banan:10']\n",
            "jabłko:5, banan:10\n"
          ],
          "name": "stdout"
        }
      ]
    },
    {
      "cell_type": "markdown",
      "metadata": {
        "id": "JHP3Y3Yh-stH"
      },
      "source": [
        "# Zadania:\n",
        "\n",
        "1. przeczytaj materiały dotyczące pulp ze strony internetowej https://coin-or.github.io/pulp/main/index.html oraz przejdź przez blending problem (przepisz do swojego notebooka)\n",
        "\n",
        "2. w blending problem dodaj zmienną decyzyjną. Stwórz zmienną która pojawi się w końcowym składzie produktu (tj. wartość zmiennej będzie miała niezerową postać)\n",
        "\n",
        "3. Dodaj ograniczenie co do zawartości witaminy B \n",
        "\n",
        "Zawartość:\n",
        "\n",
        "| Nazwa      | zawartość ug/100g |\n",
        "|------------|-------------------|\n",
        "| chicken    | 0.3               |\n",
        "| beef       | 2.6               |\n",
        "| mutton     | 2.6               |\n",
        "| rice       | 0                 |\n",
        "| wheat bran | 0                 |\n",
        "| gel        | 0                 |\n",
        "| sardines   | 8.9               |\n",
        "\n",
        "Kot ma zjeść minimum 0.24 ug na kilogram masy więc około\n",
        "0.8 ug dziennie\n",
        "\n",
        "4. Na końcu ma pojawiać się zdanie podsumowujące wynik, w stylu:\n",
        "Końcowy produkt będzie kosztować {}, będzie miał w składzie {nazwa}: {} %, {nastepna nazwa}: {} %\n",
        "\n",
        "Takie zdanie można skleić z części generowanych automatycznie:\n",
        "\n"
      ]
    },
    {
      "cell_type": "code",
      "metadata": {
        "id": "eRFoD9tm3BHb",
        "outputId": "c3548512-c3c0-459c-cc43-c0af938634f8",
        "colab": {
          "base_uri": "https://localhost:8080/",
          "height": 67
        }
      },
      "source": [
        "from pulp import *\n",
        "prob = LpProblem(\"The_Whiskas_Problem\",LpMinimize)\n",
        "LpVariable(\"example\", None, 100)\n",
        "\n",
        "x1=LpVariable(\"Chicken\",0,None,LpInteger)\n",
        "x2=LpVariable(\"Beef\",0,None,LpInteger)\n",
        "x3=LpVariable(\"Sardines\",0,None,LpInteger)\n",
        "prob += 0.013*x1 + 0.008*x2 + 0.004*x3, \"Total Cost of Ingredients per can\"\n",
        "\n",
        "prob += x1 + x2 + x3 == 100, \"PercentagesSum\"\n",
        "prob += 0.100*x1 + 0.200*x2 >= 8.0, \"ProteinRequirement\"\n",
        "prob += 0.080*x1 + 0.100*x2 >= 6.0, \"FatRequirement\"\n",
        "prob += 0.001*x1 + 0.005*x2 <= 2.0, \"FibreRequirement\"\n",
        "prob += 0.002*x1 + 0.005*x2 <= 0.4, \"SaltRequirement\"\n",
        "prob += 0.3/1000000/100*x1 + 2.6/1000000/100*x2 + 8.9/1000000/100*x3 >= 0.8/1000000/100, \"BVitaminRequirement\"\n",
        "\n",
        "prob.writeLP(\"WhiskasModel.lp\")\n",
        "prob.solve()\n",
        "\n",
        "varsdict = {}\n",
        "\n",
        "print(\"Status:\", LpStatus[prob.status])\n",
        "for v in prob.variables():\n",
        "    varsdict[v.name] = str(v.varValue) + \"%\"\n",
        "    #print(v.name, \"=\", v.varValue)\n",
        "\n",
        "#!cat \"WhiskasModel.lp\"\n",
        "\n",
        "print(\"Końcowy produkt będzie kosztować {}, będzie miał w składzie: {}\".format(value(prob.objective),varsdict))\n",
        "print()"
      ],
      "execution_count": null,
      "outputs": [
        {
          "output_type": "stream",
          "text": [
            "Status: Optimal\n",
            "Końcowy produkt będzie kosztować 0.64, będzie miał w składzie: {'Beef': '60.0%', 'Chicken': '0.0%', 'Sardines': '40.0%'}\n",
            "\n"
          ],
          "name": "stdout"
        }
      ]
    },
    {
      "cell_type": "markdown",
      "metadata": {
        "id": "lar9HuumZAzf"
      },
      "source": [
        "| Fabryka    | Partia alu | Partia drewniana | Max czas tygodniowo |\n",
        "|------------|------------|------------------|---------------------|\n",
        "| F1         | 1 h.       | X                | 4 h.                |\n",
        "| F2         | X          | 2 h.             | 12 h.               |\n",
        "| F3         | 3 h.       | 2 h.             | 18 h.               |\n",
        "|**Zysk**    | 3000\\$     | 5000\\$           |                     |"
      ]
    },
    {
      "cell_type": "code",
      "metadata": {
        "id": "JHKjfWznFeVq",
        "outputId": "1d7a61a4-fe54-4c83-d89a-35a10fac2a07",
        "colab": {
          "base_uri": "https://localhost:8080/",
          "height": 67
        }
      },
      "source": [
        "from pulp import *\n",
        "prob = LpProblem(\"Maksymalizacja_zysku_z_okien\",LpMaximize)\n",
        "\n",
        "x1=LpVariable(\"partie_alu\",0,None,LpInteger)\n",
        "x2=LpVariable(\"partie_drewniane\",0,None,LpInteger)\n",
        "\n",
        "prob += 3000*x1 + 5000*x2   #zysk\n",
        "\n",
        "prob += 1*x1 <= 4, \"Maks godziny/tyg w F1\"\n",
        "prob += 2*x2 <= 12, \"Maks godziny/tyg w F2\"\n",
        "prob += 3*x1 + 2*x2 <= 18, \"Maks godziny/tyg w F3\"\n",
        "\n",
        "prob.writeLP(\"okna.lp\")\n",
        "prob.solve()\n",
        "\n",
        "varsdict = {}\n",
        "\n",
        "print(\"Status:\", LpStatus[prob.status])\n",
        "for v in prob.variables():\n",
        "    varsdict[v.name] = str(v.varValue)\n",
        "\n",
        "#!cat \"okna.lp\"\n",
        "\n",
        "print(\"Końcowy zysk {}$, okna: {}\".format(value(prob.objective),varsdict))\n",
        "print()"
      ],
      "execution_count": 3,
      "outputs": [
        {
          "output_type": "stream",
          "text": [
            "Status: Optimal\n",
            "Końcowy zysk 36000.0$, okna: {'partie_alu': '2.0', 'partie_drewniane': '6.0'}\n",
            "\n"
          ],
          "name": "stdout"
        }
      ]
    }
  ]
}