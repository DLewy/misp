{
  "nbformat": 4,
  "nbformat_minor": 0,
  "metadata": {
    "colab": {
      "name": "Pulp_problem_rezo1.ipynb",
      "provenance": [],
      "collapsed_sections": []
    },
    "kernelspec": {
      "name": "python3",
      "display_name": "Python 3"
    }
  },
  "cells": [
    {
      "cell_type": "code",
      "metadata": {
        "id": "BjX-mj9e8D5a"
      },
      "source": [
        "!pip install pulp\n",
        "\n",
        "!sudo apt-get install coinor-cbc glpk-utils coinor-clp\n"
      ],
      "execution_count": null,
      "outputs": []
    },
    {
      "cell_type": "markdown",
      "metadata": {
        "id": "lar9HuumZAzf"
      },
      "source": [
        "![image_2020-11-04_200132.png](data:image/png;base64,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)"
      ]
    },
    {
      "cell_type": "code",
      "metadata": {
        "id": "V4nHtR9YkeWs",
        "outputId": "b009d89e-477e-4e3c-8e90-d440fa2dd96a",
        "colab": {
          "base_uri": "https://localhost:8080/"
        }
      },
      "source": [
        "from pulp import *\n",
        "#print(pulp.__version__)\n",
        "\n",
        "U = [6,10,4,7,3]\n",
        "\n",
        "prob = LpProblem(\"Minimalizacja_mocy_na_rezo\",LpMinimize)\n",
        "\n",
        "i1=LpVariable(\"i1\",0,None,LpContinuous)\n",
        "i2=LpVariable(\"i2\",0,None,LpContinuous)\n",
        "i3=LpVariable(\"i3\",0,None,LpContinuous)\n",
        "i4=LpVariable(\"i4\",0,None,LpContinuous)\n",
        "i5=LpVariable(\"i5\",0,None,LpContinuous)\n",
        "\n",
        "prob += 6*i1 + 10*i2 + 4*i3 + 7*i4 + 3*i5\n",
        "\n",
        "#kirchhoff\n",
        "prob += i1+i2 == i4+i5\n",
        "prob += i1 == i3+i4\n",
        "prob += i2 == i5-i3\n",
        "\n",
        "#ograniczenia pradów\n",
        "prob += i1 >= 3\n",
        "prob += i1 <= 5\n",
        "prob += i2 >= 1\n",
        "prob += i2 <= 3\n",
        "prob += i3 >= 1\n",
        "prob += i3 <= 3\n",
        "prob += i4 >= 1\n",
        "prob += i4 <= 3\n",
        "prob += i5 >= 3\n",
        "prob += i5 <= 5\n",
        "\n",
        "prob.writeLP(\"rezo.lp\")\n",
        "prob.solve()\n",
        "\n",
        "varsdict = {}\n",
        "\n",
        "j = 0\n",
        "for v in prob.variables():\n",
        "    varsdict[v.name,\"R\"+str(j+1)] = str(v.varValue), U[j]/v.varValue\n",
        "    j += 1\n",
        "\n",
        "#!cat \"rezo.lp\"\n",
        "\n",
        "print(\"Status:\", LpStatus[prob.status])\n",
        "print(\"Minimalna moc {}W, prądy [A] i rezo [Ω]: {}\".format(value(prob.objective),varsdict))"
      ],
      "execution_count": 4,
      "outputs": [
        {
          "output_type": "stream",
          "text": [
            "Status: Optimal\n",
            "Minimalna moc 52.0W, prądy [A] i rezo [Ω]: {('i1', 'R1'): ('3.0', 2.0), ('i2', 'R2'): ('1.0', 10.0), ('i3', 'R3'): ('2.0', 2.0), ('i4', 'R4'): ('1.0', 7.0), ('i5', 'R5'): ('3.0', 1.0)}\n"
          ],
          "name": "stdout"
        }
      ]
    }
  ]
}