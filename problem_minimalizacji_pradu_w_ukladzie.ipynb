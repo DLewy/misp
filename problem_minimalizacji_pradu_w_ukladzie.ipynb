{
  "nbformat": 4,
  "nbformat_minor": 0,
  "metadata": {
    "colab": {
      "name": "problem_minimalizacji_pradu_w_ukladzie.ipynb",
      "provenance": [],
      "collapsed_sections": []
    },
    "kernelspec": {
      "name": "python3",
      "display_name": "Python 3"
    }
  },
  "cells": [
    {
      "cell_type": "code",
      "metadata": {
        "id": "BjX-mj9e8D5a"
      },
      "source": [
        "!pip install pulp\n",
        "\n",
        "!sudo apt-get install coinor-cbc glpk-utils coinor-clp\n"
      ],
      "execution_count": null,
      "outputs": []
    },
    {
      "cell_type": "code",
      "metadata": {
        "id": "V4nHtR9YkeWs",
        "outputId": "63d2b1eb-3bcc-4bfc-8457-72bf1d1d045f",
        "colab": {
          "base_uri": "https://localhost:8080/"
        }
      },
      "source": [
        "from pulp import *\n",
        "from __future__ import print_function\n",
        "from ipywidgets import interact, interactive, fixed, interact_manual, Layout, FloatSlider, IntSlider\n",
        "import ipywidgets as widgets\n",
        "import pandas as pd\n",
        "\n",
        "prob = LpProblem(\"Min_stara_mocy\",LpMinimize)\n",
        "\n",
        "i1 = LpVariable(\"Prad_1\",0)\n",
        "i2 = LpVariable(\"Prad_2\",0)\n",
        "i3 = LpVariable(\"Prad_3\",0)\n",
        "i4 = LpVariable(\"Prad_4\",0)\n",
        "i5 = LpVariable(\"Prad_5\",0)\n",
        "\n",
        "prob += 6*i1 + 10*i2 + 4*i3 + 7*i4 + 3*i5, \"Moc\"\n",
        "\n",
        "prob += 3 <= i1, \"Prad_1_min\"\n",
        "prob += i1 <= 5, \"Prad_1_max\"\n",
        "prob += 1 <= i2, \"Prad_2_min\"\n",
        "prob += i2 <= 3, \"Prad_2_max\"\n",
        "prob += 1 <= i3, \"Prad_3_min\"\n",
        "prob += i3 <= 3, \"Prad_3_max\"\n",
        "prob += 1 <= i4, \"Prad_4_min\"\n",
        "prob += i4 <= 3, \"Prad_4_max\"\n",
        "prob += 3 <= i5, \"Prad_5_min\"\n",
        "prob += i5 <= 5, \"Prad_5_max\"\n",
        "prob += i1+i2 == i4+i5\n",
        "prob += i1 == i3+i4\n",
        "prob += i2 == i5-i3\n",
        "prob.writeLP(\"min_starty.lp\")\n",
        "prob.solve()\n",
        "print (\"Status:\", LpStatus[prob.status])\n",
        "\n",
        "for v in prob.variables():\n",
        "    print (v.name, \"=\", v.varValue)\n",
        "\n",
        "print(\"Starata mocy =\",value(prob.objective),\"W\")\n",
        "print(\"R1 =\", 6/i1.varValue,\"kΩ\")\n",
        "print(\"R2 =\", 10/i2.varValue,\"kΩ\")\n",
        "print(\"R2 =\", 4/i3.varValue,\"kΩ\")\n",
        "print(\"R4 =\", 7/i4.varValue,\"kΩ\")\n",
        "print(\"R5 =\", 3/i5.varValue,\"kΩ\") "
      ],
      "execution_count": 31,
      "outputs": [
        {
          "output_type": "stream",
          "text": [
            "Status: Optimal\n",
            "Prad_1 = 3.0\n",
            "Prad_2 = 1.0\n",
            "Prad_3 = 2.0\n",
            "Prad_4 = 1.0\n",
            "Prad_5 = 3.0\n",
            "Starata mocy = 52.0 W\n",
            "R1 = 2.0 kΩ\n",
            "R2 = 10.0 kΩ\n",
            "R2 = 2.0 kΩ\n",
            "R4 = 7.0 kΩ\n",
            "R5 = 1.0 kΩ\n"
          ],
          "name": "stdout"
        }
      ]
    },
    {
      "cell_type": "code",
      "metadata": {
        "id": "Xi3InaO4Fc0B"
      },
      "source": [
        ""
      ],
      "execution_count": null,
      "outputs": []
    }
  ]
}