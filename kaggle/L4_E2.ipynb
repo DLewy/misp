{
  "nbformat": 4,
  "nbformat_minor": 0,
  "metadata": {
    "kernelspec": {
      "name": "python3",
      "display_name": "Python 3",
      "language": "python"
    },
    "language_info": {
      "name": "python",
      "version": "3.7.6",
      "mimetype": "text/x-python",
      "codemirror_mode": {
        "name": "ipython",
        "version": 3
      },
      "pygments_lexer": "ipython3",
      "nbconvert_exporter": "python",
      "file_extension": ".py"
    },
    "colab": {
      "name": "L4_E2.ipynb",
      "provenance": []
    }
  },
  "cells": [
    {
      "cell_type": "code",
      "metadata": {
        "colab": {
          "base_uri": "https://localhost:8080/"
        },
        "id": "rmp5p28GkvGf",
        "outputId": "6cef1107-0c57-4ed6-b30d-50f073dcd0d3"
      },
      "source": [
        "!pip install git+https://github.com/Kaggle/learntools.git\n",
        "!wget https://raw.githubusercontent.com/vDeeMILv/misp/master/kaggle/train.csv"
      ],
      "execution_count": 4,
      "outputs": [
        {
          "output_type": "stream",
          "text": [
            "Collecting git+https://github.com/Kaggle/learntools.git\n",
            "  Cloning https://github.com/Kaggle/learntools.git to /tmp/pip-req-build-ke07__pr\n",
            "  Running command git clone -q https://github.com/Kaggle/learntools.git /tmp/pip-req-build-ke07__pr\n",
            "Building wheels for collected packages: learntools\n",
            "  Building wheel for learntools (setup.py) ... \u001b[?25l\u001b[?25hdone\n",
            "  Created wheel for learntools: filename=learntools-0.3.4-cp36-none-any.whl size=230610 sha256=ccdf0956b9119ab562991acc3d17fab50edacb13034b0fe59bced1456bb9c411\n",
            "  Stored in directory: /tmp/pip-ephem-wheel-cache-uw4kgsh4/wheels/be/e6/c1/ea4ee69de95f8f0e627b7a26125e8348391eaf84cb7015e68f\n",
            "Successfully built learntools\n",
            "Installing collected packages: learntools\n",
            "Successfully installed learntools-0.3.4\n",
            "--2020-12-02 17:51:19--  https://raw.githubusercontent.com/vDeeMILv/misp/master/kaggle/train.csv\n",
            "Resolving raw.githubusercontent.com (raw.githubusercontent.com)... 151.101.0.133, 151.101.64.133, 151.101.128.133, ...\n",
            "Connecting to raw.githubusercontent.com (raw.githubusercontent.com)|151.101.0.133|:443... connected.\n",
            "HTTP request sent, awaiting response... 200 OK\n",
            "Length: 460676 (450K) [text/plain]\n",
            "Saving to: ‘train.csv.1’\n",
            "\n",
            "train.csv.1         100%[===================>] 449.88K  --.-KB/s    in 0.05s   \n",
            "\n",
            "2020-12-02 17:51:20 (9.36 MB/s) - ‘train.csv.1’ saved [460676/460676]\n",
            "\n"
          ],
          "name": "stdout"
        }
      ]
    },
    {
      "cell_type": "markdown",
      "metadata": {
        "id": "cYzI8Tn9kClR"
      },
      "source": [
        "**This notebook is an exercise in the [Introduction to Machine Learning](https://www.kaggle.com/learn/intro-to-machine-learning) course.  You can reference the tutorial at [this link](https://www.kaggle.com/dansbecker/model-validation).**\n",
        "\n",
        "---\n"
      ]
    },
    {
      "cell_type": "markdown",
      "metadata": {
        "id": "iKJhO6eSkClS"
      },
      "source": [
        "## Recap\n",
        "You've built a model. In this exercise you will test how good your model is.\n",
        "\n",
        "Run the cell below to set up your coding environment where the previous exercise left off."
      ]
    },
    {
      "cell_type": "code",
      "metadata": {
        "trusted": true,
        "colab": {
          "base_uri": "https://localhost:8080/"
        },
        "id": "aNJ9uvxbkClS",
        "outputId": "749d4175-dee5-405a-8624-9818afda7a7b"
      },
      "source": [
        "# Code you have previously used to load data\n",
        "import pandas as pd\n",
        "from sklearn.tree import DecisionTreeRegressor\n",
        "\n",
        "# Path of the file to read\n",
        "iowa_file_path = 'train.csv'\n",
        "\n",
        "home_data = pd.read_csv(iowa_file_path)\n",
        "y = home_data.SalePrice\n",
        "feature_columns = ['LotArea', 'YearBuilt', '1stFlrSF', '2ndFlrSF', 'FullBath', 'BedroomAbvGr', 'TotRmsAbvGrd']\n",
        "X = home_data[feature_columns]\n",
        "\n",
        "# Specify Model\n",
        "iowa_model = DecisionTreeRegressor()\n",
        "# Fit Model\n",
        "iowa_model.fit(X, y)\n",
        "\n",
        "print(\"First in-sample predictions:\", iowa_model.predict(X.head()))\n",
        "print(\"Actual target values for those homes:\", y.head().tolist())\n",
        "\n",
        "# Set up code checking\n",
        "from learntools.core import binder\n",
        "binder.bind(globals())\n",
        "from learntools.machine_learning.ex4 import *\n",
        "print(\"Setup Complete\")"
      ],
      "execution_count": 6,
      "outputs": [
        {
          "output_type": "stream",
          "text": [
            "WARNING:root:Ignoring repeated attempt to bind to globals\n"
          ],
          "name": "stderr"
        },
        {
          "output_type": "stream",
          "text": [
            "First in-sample predictions: [208500. 181500. 223500. 140000. 250000.]\n",
            "Actual target values for those homes: [208500, 181500, 223500, 140000, 250000]\n",
            "Setup Complete\n"
          ],
          "name": "stdout"
        }
      ]
    },
    {
      "cell_type": "markdown",
      "metadata": {
        "id": "EmjWX7UKkClj"
      },
      "source": [
        "# Exercises\n",
        "\n",
        "## Step 1: Split Your Data\n",
        "Use the `train_test_split` function to split up your data.\n",
        "\n",
        "Give it the argument `random_state=1` so the `check` functions know what to expect when verifying your code.\n",
        "\n",
        "Recall, your features are loaded in the DataFrame **X** and your target is loaded in **y**.\n"
      ]
    },
    {
      "cell_type": "code",
      "metadata": {
        "trusted": true,
        "colab": {
          "base_uri": "https://localhost:8080/",
          "height": 46
        },
        "id": "4OtaFLgbkClk",
        "outputId": "be576c5d-56c4-4efe-ccd3-c58d37e33d5b"
      },
      "source": [
        "# Import the train_test_split function and uncomment\n",
        "from sklearn.model_selection import train_test_split\n",
        "\n",
        "# fill in and uncomment\n",
        "train_X, val_X, train_y, val_y = train_test_split(X, y, random_state = 1)\n",
        "\n",
        "# Check your answer\n",
        "step_1.check()"
      ],
      "execution_count": 7,
      "outputs": [
        {
          "output_type": "display_data",
          "data": {
            "application/javascript": [
              "parent.postMessage({\"jupyterEvent\": \"custom.exercise_interaction\", \"data\": {\"outcomeType\": 1, \"valueTowardsCompletion\": 0.25, \"interactionType\": 1, \"questionType\": 2, \"questionId\": \"1_SplitData\", \"learnToolsVersion\": \"0.3.4\", \"failureMessage\": \"\", \"exceptionClass\": \"\", \"trace\": \"\"}}, \"*\")"
            ],
            "text/plain": [
              "<IPython.core.display.Javascript object>"
            ]
          },
          "metadata": {
            "tags": []
          }
        },
        {
          "output_type": "display_data",
          "data": {
            "text/markdown": "<span style=\"color:#33cc33\">Correct</span>",
            "text/plain": [
              "Correct"
            ]
          },
          "metadata": {
            "tags": []
          }
        }
      ]
    },
    {
      "cell_type": "code",
      "metadata": {
        "trusted": false,
        "id": "IRDEfRj1kCll"
      },
      "source": [
        "# The lines below will show you a hint or the solution.\n",
        "# step_1.hint() \n",
        "# step_1.solution()\n"
      ],
      "execution_count": null,
      "outputs": []
    },
    {
      "cell_type": "markdown",
      "metadata": {
        "id": "V5nILZ96kCll"
      },
      "source": [
        "## Step 2: Specify and Fit the Model\n",
        "\n",
        "Create a `DecisionTreeRegressor` model and fit it to the relevant data.\n",
        "Set `random_state` to 1 again when creating the model."
      ]
    },
    {
      "cell_type": "code",
      "metadata": {
        "trusted": true,
        "colab": {
          "base_uri": "https://localhost:8080/",
          "height": 116
        },
        "id": "sVO1yrLXkCll",
        "outputId": "cd6b27ac-079b-4dcb-e7c4-91fd2dc801e0"
      },
      "source": [
        "# You imported DecisionTreeRegressor in your last exercise\n",
        "# and that code has been copied to the setup code above. So, no need to\n",
        "# import it again\n",
        "\n",
        "# Specify the model\n",
        "iowa_model = DecisionTreeRegressor(random_state = 1)\n",
        "\n",
        "# Fit iowa_model with the training data.\n",
        "iowa_model.fit(train_X, train_y)\n",
        "\n",
        "# Check your answer\n",
        "step_2.check()"
      ],
      "execution_count": 8,
      "outputs": [
        {
          "output_type": "stream",
          "text": [
            "[186500. 184000. 130000.  92000. 164500. 220000. 335000. 144152. 215000.\n",
            " 262000.]\n",
            "[186500. 184000. 130000.  92000. 164500. 220000. 335000. 144152. 215000.\n",
            " 262000.]\n"
          ],
          "name": "stdout"
        },
        {
          "output_type": "display_data",
          "data": {
            "application/javascript": [
              "parent.postMessage({\"jupyterEvent\": \"custom.exercise_interaction\", \"data\": {\"outcomeType\": 1, \"valueTowardsCompletion\": 0.25, \"interactionType\": 1, \"questionType\": 2, \"questionId\": \"2_FitModelWithTrain\", \"learnToolsVersion\": \"0.3.4\", \"failureMessage\": \"\", \"exceptionClass\": \"\", \"trace\": \"\"}}, \"*\")"
            ],
            "text/plain": [
              "<IPython.core.display.Javascript object>"
            ]
          },
          "metadata": {
            "tags": []
          }
        },
        {
          "output_type": "display_data",
          "data": {
            "text/markdown": "<span style=\"color:#33cc33\">Correct</span>",
            "text/plain": [
              "Correct"
            ]
          },
          "metadata": {
            "tags": []
          }
        }
      ]
    },
    {
      "cell_type": "code",
      "metadata": {
        "trusted": true,
        "id": "mZOyf5jAkCll"
      },
      "source": [
        "# step_2.hint()\n",
        "# step_2.solution()"
      ],
      "execution_count": 9,
      "outputs": []
    },
    {
      "cell_type": "markdown",
      "metadata": {
        "id": "qGpJN9gAkCll"
      },
      "source": [
        "## Step 3: Make Predictions with Validation data\n"
      ]
    },
    {
      "cell_type": "code",
      "metadata": {
        "trusted": true,
        "colab": {
          "base_uri": "https://localhost:8080/",
          "height": 46
        },
        "id": "CYpukO0MkCll",
        "outputId": "258a44ea-cbed-440e-fe5e-82bb14d7121a"
      },
      "source": [
        "# Predict with all validation observations\n",
        "val_predictions = iowa_model.predict(val_X)\n",
        "\n",
        "# Check your answer\n",
        "step_3.check()"
      ],
      "execution_count": 10,
      "outputs": [
        {
          "output_type": "display_data",
          "data": {
            "application/javascript": [
              "parent.postMessage({\"jupyterEvent\": \"custom.exercise_interaction\", \"data\": {\"outcomeType\": 1, \"valueTowardsCompletion\": 0.25, \"interactionType\": 1, \"questionType\": 2, \"questionId\": \"3_ValPreds\", \"learnToolsVersion\": \"0.3.4\", \"failureMessage\": \"\", \"exceptionClass\": \"\", \"trace\": \"\"}}, \"*\")"
            ],
            "text/plain": [
              "<IPython.core.display.Javascript object>"
            ]
          },
          "metadata": {
            "tags": []
          }
        },
        {
          "output_type": "display_data",
          "data": {
            "text/markdown": "<span style=\"color:#33cc33\">Correct</span>",
            "text/plain": [
              "Correct"
            ]
          },
          "metadata": {
            "tags": []
          }
        }
      ]
    },
    {
      "cell_type": "code",
      "metadata": {
        "trusted": true,
        "id": "0ChA5zjKkCll"
      },
      "source": [
        "# step_3.hint()\n",
        "# step_3.solution()"
      ],
      "execution_count": null,
      "outputs": []
    },
    {
      "cell_type": "markdown",
      "metadata": {
        "id": "6P6G8LjdkClm"
      },
      "source": [
        "Inspect your predictions and actual values from validation data."
      ]
    },
    {
      "cell_type": "code",
      "metadata": {
        "trusted": true,
        "colab": {
          "base_uri": "https://localhost:8080/"
        },
        "id": "39rfytOfkClm",
        "outputId": "a53341f2-8b83-4166-ea73-2e0ffa945900"
      },
      "source": [
        "# print the top few validation predictions\n",
        "print(iowa_model.predict(val_X.head()))\n",
        "# print the top few actual prices from validation data\n",
        "print(val_y.head().tolist())"
      ],
      "execution_count": 11,
      "outputs": [
        {
          "output_type": "stream",
          "text": [
            "[186500. 184000. 130000.  92000. 164500.]\n",
            "[231500, 179500, 122000, 84500, 142000]\n"
          ],
          "name": "stdout"
        }
      ]
    },
    {
      "cell_type": "markdown",
      "metadata": {
        "id": "EmKpoSockClm"
      },
      "source": [
        "What do you notice that is different from what you saw with in-sample predictions (which are printed after the top code cell in this page).\n",
        "\n",
        "Do you remember why validation predictions differ from in-sample (or training) predictions? This is an important idea from the last lesson.\n",
        "\n",
        "## Step 4: Calculate the Mean Absolute Error in Validation Data\n"
      ]
    },
    {
      "cell_type": "code",
      "metadata": {
        "trusted": false,
        "colab": {
          "base_uri": "https://localhost:8080/",
          "height": 64
        },
        "id": "OgQdWt6zkClm",
        "outputId": "56f510fd-187f-4aea-9df5-8a92cca39d53"
      },
      "source": [
        "from sklearn.metrics import mean_absolute_error\n",
        "val_mae = mean_absolute_error(val_y, val_predictions)\n",
        "\n",
        "# uncomment following line to see the validation_mae\n",
        "print(val_mae)\n",
        "\n",
        "# Check your answer\n",
        "step_4.check()"
      ],
      "execution_count": 12,
      "outputs": [
        {
          "output_type": "stream",
          "text": [
            "29652.931506849316\n"
          ],
          "name": "stdout"
        },
        {
          "output_type": "display_data",
          "data": {
            "application/javascript": [
              "parent.postMessage({\"jupyterEvent\": \"custom.exercise_interaction\", \"data\": {\"outcomeType\": 1, \"valueTowardsCompletion\": 0.25, \"interactionType\": 1, \"questionType\": 1, \"questionId\": \"4_MAE\", \"learnToolsVersion\": \"0.3.4\", \"failureMessage\": \"\", \"exceptionClass\": \"\", \"trace\": \"\"}}, \"*\")"
            ],
            "text/plain": [
              "<IPython.core.display.Javascript object>"
            ]
          },
          "metadata": {
            "tags": []
          }
        },
        {
          "output_type": "display_data",
          "data": {
            "text/markdown": "<span style=\"color:#33cc33\">Correct</span>",
            "text/plain": [
              "Correct"
            ]
          },
          "metadata": {
            "tags": []
          }
        }
      ]
    },
    {
      "cell_type": "code",
      "metadata": {
        "trusted": false,
        "id": "uz3-Y3V-kClm"
      },
      "source": [
        "# step_4.hint()\n",
        "# step_4.solution()"
      ],
      "execution_count": 13,
      "outputs": []
    },
    {
      "cell_type": "markdown",
      "metadata": {
        "id": "6kx1lG2lkClm"
      },
      "source": [
        "Is that MAE good?  There isn't a general rule for what values are good that applies across applications. But you'll see how to use (and improve) this number in the next step.\n",
        "\n",
        "# Keep Going\n",
        "\n",
        "You are ready for **[Underfitting and Overfitting](https://www.kaggle.com/dansbecker/underfitting-and-overfitting).**\n"
      ]
    },
    {
      "cell_type": "markdown",
      "metadata": {
        "id": "9TozNyRZkClm"
      },
      "source": [
        "---\n",
        "\n",
        "\n",
        "\n",
        "\n",
        "*Have questions or comments? Visit the [Learn Discussion forum](https://www.kaggle.com/learn-forum/161285) to chat with other Learners.*"
      ]
    }
  ]
}